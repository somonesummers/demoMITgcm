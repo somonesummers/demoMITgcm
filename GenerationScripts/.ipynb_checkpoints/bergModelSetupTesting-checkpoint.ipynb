{
 "cells": [
  {
   "cell_type": "code",
   "execution_count": 27,
   "id": "a55711ab",
   "metadata": {},
   "outputs": [],
   "source": [
    "import os\n",
    "import numpy as np\n",
    "import matplotlib.pylab as plt\n",
    "import pickle\n",
    "import importlib\n",
    "import shutil\n",
    "\n",
    "from scipy.interpolate import make_interp_spline\n",
    "\n",
    "import sys\n",
    "sys.path.append('/Users/psummers8/Documents/MITgcm/MITgcm/elizaScripts/main_scripts')\n",
    "\n",
    "import build_domain_funcs as build_domain \n",
    "import run_config_funcs as rcf # import helpter functions\n",
    "\n",
    "writeFiles = True\n",
    "\n",
    "def write_bin(fname, data):\n",
    "    print(fname, np.shape(data))\n",
    "    # setupNotes.write(fname + \" \" + str(np.shape(data))+'\\n')\n",
    "    if(writeFiles):\n",
    "        \n",
    "        data.astype(\">f8\").tofile(fname)\n",
    "    else:\n",
    "        print('Not saving')"
   ]
  },
  {
   "cell_type": "markdown",
   "id": "0f30ab23",
   "metadata": {},
   "source": [
    "## Main run configuration"
   ]
  },
  {
   "cell_type": "code",
   "execution_count": 5,
   "id": "2aeae99f",
   "metadata": {},
   "outputs": [
    {
     "data": {
      "text/plain": [
       "{'ncpus_xy': [1, 1],\n",
       " 'run_name': 'shelfTest',\n",
       " 'ndays': 20,\n",
       " 'test': True,\n",
       " 'horiz_res_m': 500,\n",
       " 'Lx_m': 25000,\n",
       " 'Ly_m': 6000,\n",
       " 'evolve_salt': False,\n",
       " 'use_GMRedi': False,\n",
       " 'periodic_forcing': False,\n",
       " 'use_MPI': False,\n",
       " 'lf': '\\r\\n',\n",
       " 'exps_dir': '/Users/psummers8/Documents/MITgcm/MITgcm/experiments',\n",
       " 'run_dir': '/Users/psummers8/Documents/MITgcm/MITgcm/experiments/shelfTest'}"
      ]
     },
     "execution_count": 5,
     "metadata": {},
     "output_type": "execute_result"
    }
   ],
   "source": [
    "# set high level run configurations\n",
    "\n",
    "run_config = {}\n",
    "run_config['ncpus_xy'] = [1, 1] # cpu distribution in the x and y directions\n",
    "run_config['run_name'] = 'shelfTest'\n",
    "run_config['ndays'] = 20 # simulaton time (days)\n",
    "run_config['test'] = True # if True, run_config['nyrs'] will be shortened to a few time steps\n",
    "\n",
    "run_config['horiz_res_m'] = 500 # horizontal grid spacing (m)\n",
    "run_config['Lx_m'] = 25000 # domain size in x (m)\n",
    "run_config['Ly_m'] = 6000 # domain size in y (m)\n",
    "# NOTE: the number of grid points in x and y should be multiples of the number of cpus.\n",
    "\n",
    "run_config['evolve_salt'] = False\n",
    "run_config['use_GMRedi'] = False # should be set to false for eddy permitting resolutions\n",
    "run_config['periodic_forcing'] = False # note: the code is not yet set up to handle time-dependent forcing\n",
    "\n",
    "MITgcm_release = 'MITgcm-checkpoint69a' #Sept 2024 release\n",
    "#MITgcm_code_dir = os.path.join(group_home_dir, 'shared/mitgcm_releases', MITgcm_release)\n",
    "\n",
    "# you probably don't need to touch this\n",
    "run_config['use_MPI'] = False # for multi-processing\n",
    "run_config['lf'] = '\\r\\n' # linebreak characters \n",
    "run_config['exps_dir'] = os.path.join('/Users/psummers8/Documents/MITgcm/MITgcm/experiments') \n",
    "run_config['run_dir'] = os.path.join(run_config['exps_dir'], run_config['run_name'])\n",
    "run_config"
   ]
  },
  {
   "cell_type": "markdown",
   "id": "df4e13b5",
   "metadata": {},
   "source": [
    "## Domain  and grid parameters"
   ]
  },
  {
   "cell_type": "code",
   "execution_count": 6,
   "id": "3e228fd2",
   "metadata": {},
   "outputs": [],
   "source": [
    "secsInDay = 24*60*60\n",
    "secsInYear = 365*secsInDay\n",
    "\n",
    "\n",
    "# set domain size\n",
    "domain_params = {}\n",
    "domain_params['Lx'] = run_config['Lx_m'] # domain size in x (m)\n",
    "domain_params['Ly'] = run_config['Ly_m'] # domain size in y (m)\n",
    "domain_params['L_sponge'] = 5000 # width of eastern sponge layer (m)\n",
    "domain_params['H'] = 200 # max domain depth (m)"
   ]
  },
  {
   "cell_type": "code",
   "execution_count": 7,
   "id": "e4a2274c",
   "metadata": {},
   "outputs": [
    {
     "name": "stdout",
     "output_type": "stream",
     "text": [
      "Nx: 50.0\n",
      "Ny: 12.0\n",
      "sNx: 50.0\n",
      "sNy: 12.0\n",
      "{'nSx': 1, 'nSy': 1, 'nTx': 1, 'nTy': 1, 'OLx': 3, 'OLy': 3, 'Nr': 20, 'nPx': 1, 'nPy': 1, 'Nx': 50, 'Ny': 12, 'sNx': 50, 'sNy': 12}\n"
     ]
    }
   ],
   "source": [
    "#---grid parameters ---# \n",
    "\n",
    "# NOTE: the only thing you may need to change here is the number of z-grid points)\n",
    "grid_params = {}\n",
    "\n",
    "domain_params['Lx']/(run_config['horiz_res_m'])\n",
    "domain_params['Ly']/(run_config['horiz_res_m'])\n",
    "\n",
    "grid_params['nSx'] = 1 # num of tiles per processor in x-direction\n",
    "grid_params['nSy'] = 1 # num of tiles per processor in y-direction\n",
    "grid_params['nTx'] = 1 # num of threads per processor in x-direction\n",
    "grid_params['nTy'] = 1 # num of threads per processor in y-direction\n",
    "grid_params['OLx'] = 3 # num of overlapping x-gridpoints per tile\n",
    "grid_params['OLy'] = 3 # num of overlapping y-gridpoints per tile\n",
    "grid_params['Nr'] = 20 # num of z-grid points\n",
    "\n",
    "grid_params['nPx'] = run_config['ncpus_xy'][0] #num of processors in x-direction\n",
    "grid_params['nPy'] = run_config['ncpus_xy'][1] #num of processors in x-direction\n",
    "\n",
    "# grid_params['nSx'] = domain_params['Lx']/(run_config['horiz_res_m']) # num of x points in sub grid\n",
    "# grid_params['nSy'] = domain_params['Ly']/(run_config['horiz_res_m']) # num of y points in sub grid\n",
    "\n",
    "# grid_params['Nx'] = grid_params['sNx'] * grid_params['nSx'] * grid_params['nPx']\n",
    "# grid_params['Ny'] = grid_params['sNy'] * grid_params['nSy'] * grid_params['nPy']\n",
    "\n",
    "grid_params['Nx'] = domain_params['Lx']/(run_config['horiz_res_m']) # num of x points\n",
    "grid_params['Ny'] = domain_params['Ly']/(run_config['horiz_res_m']) # num of y points\n",
    "\n",
    "print(\"Nx: %s\" %grid_params['Nx'])\n",
    "print(\"Ny: %s\" %grid_params['Ny'])\n",
    "\n",
    "grid_params['sNx'] = grid_params['Nx']/grid_params['nPx']#num of x-gridpoints per tile\n",
    "grid_params['sNy'] = grid_params['Ny']/grid_params['nPy'] #num of y-gridpoints per tile\n",
    "\n",
    "print(\"sNx: %s\" %grid_params['sNx'])\n",
    "print(\"sNy: %s\" %grid_params['sNy'])\n",
    "\n",
    "# NOTE: sNx and sNy should be whole numbers/integers. As long we keep the horizontal resolution,\n",
    "# domain dimesions, and number of cpus to be multiples of five, we should be ok. \n",
    "\n",
    "for key, param  in grid_params.items():\n",
    "    assert param%1==0, \"grid parameter needs to be an integer\"\n",
    "    grid_params[key] = int(param)\n",
    "    \n",
    "print(grid_params)\n",
    "#run_config['grid_params'] = grid_params"
   ]
  },
  {
   "cell_type": "code",
   "execution_count": 8,
   "id": "875104fd",
   "metadata": {},
   "outputs": [],
   "source": [
    "# grid_params cont'd\n",
    "grid_params['usingCartesianGrid'] = True\n",
    "grid_params['usingSphericalPolarGrid'] = False \n",
    "\n",
    "# horizontal grid spacing\n",
    "grid_params['delX'] = (domain_params['Lx']/grid_params['Nx'])*np.ones(grid_params['Nx'])\n",
    "grid_params['delY'] = (domain_params['Ly']/grid_params['Ny'])*np.ones(grid_params['Ny'])\n",
    "\n",
    "\n",
    "# vertical grid spacing \n",
    "# spacing increases with depth---can be modified\n",
    "zidx = np.arange(1, grid_params['Nr']+1)\n",
    "aa = 10\n",
    "bb = 10\n",
    "dz1 = 2*domain_params['H']/grid_params['Nr']/(aa+1)\n",
    "dz2 = aa*dz1\n",
    "dz = dz1 + ((dz2-dz1)/2)*(1+np.tanh((zidx-((grid_params['Nr']+1)/2))/aa))\n",
    "zz1 = np.append([0], np.cumsum(dz))\n",
    "zz = -(zz1[:-1] + np.diff(zz1)/2) # layer midpoints\n",
    "\n",
    "grid_params['delZ'] = dz\n",
    "grid_params['hFacMinDr'] = dz.min()"
   ]
  },
  {
   "cell_type": "code",
   "execution_count": 28,
   "id": "2f7dc6b6",
   "metadata": {},
   "outputs": [
    {
     "name": "stdout",
     "output_type": "stream",
     "text": [
      "[18 19]\n",
      "18\n",
      "[18 19]\n",
      "19\n",
      "T.sgd (20, 12)\n"
     ]
    },
    {
     "ename": "NameError",
     "evalue": "name 'setupNotes' is not defined",
     "output_type": "error",
     "traceback": [
      "\u001b[0;31m---------------------------------------------------------------------------\u001b[0m",
      "\u001b[0;31mNameError\u001b[0m                                 Traceback (most recent call last)",
      "Cell \u001b[0;32mIn[28], line 27\u001b[0m\n\u001b[1;32m     24\u001b[0m     sgdMu[sgdii, :] \u001b[38;5;241m=\u001b[39m \u001b[38;5;241m1\u001b[39m\n\u001b[1;32m     25\u001b[0m     sgdMtr[sgdii, :] \u001b[38;5;241m=\u001b[39m sgd \u001b[38;5;241m*\u001b[39m tau \u001b[38;5;241m/\u001b[39m (sgdd \u001b[38;5;241m*\u001b[39m run_config[\u001b[38;5;124m'\u001b[39m\u001b[38;5;124mhoriz_res_m\u001b[39m\u001b[38;5;124m'\u001b[39m] \u001b[38;5;241m*\u001b[39m run_config[\u001b[38;5;124m'\u001b[39m\u001b[38;5;124mhoriz_res_m\u001b[39m\u001b[38;5;124m'\u001b[39m])\n\u001b[0;32m---> 27\u001b[0m write_bin(\u001b[38;5;124m\"\u001b[39m\u001b[38;5;124mT.sgd\u001b[39m\u001b[38;5;124m\"\u001b[39m, sgdT)\n\u001b[1;32m     28\u001b[0m write_bin(\u001b[38;5;124m\"\u001b[39m\u001b[38;5;124mS.sgd\u001b[39m\u001b[38;5;124m\"\u001b[39m, sgdS)\n\u001b[1;32m     29\u001b[0m write_bin(\u001b[38;5;124m\"\u001b[39m\u001b[38;5;124mU.sgd\u001b[39m\u001b[38;5;124m\"\u001b[39m, sgdu)\n",
      "Cell \u001b[0;32mIn[27], line 20\u001b[0m, in \u001b[0;36mwrite_bin\u001b[0;34m(fname, data)\u001b[0m\n\u001b[1;32m     18\u001b[0m \u001b[38;5;28;01mdef\u001b[39;00m \u001b[38;5;21mwrite_bin\u001b[39m(fname, data):\n\u001b[1;32m     19\u001b[0m     \u001b[38;5;28mprint\u001b[39m(fname, np\u001b[38;5;241m.\u001b[39mshape(data))\n\u001b[0;32m---> 20\u001b[0m     setupNotes\u001b[38;5;241m.\u001b[39mwrite(fname \u001b[38;5;241m+\u001b[39m \u001b[38;5;124m\"\u001b[39m\u001b[38;5;124m \u001b[39m\u001b[38;5;124m\"\u001b[39m \u001b[38;5;241m+\u001b[39m \u001b[38;5;28mstr\u001b[39m(np\u001b[38;5;241m.\u001b[39mshape(data))\u001b[38;5;241m+\u001b[39m\u001b[38;5;124m'\u001b[39m\u001b[38;5;130;01m\\n\u001b[39;00m\u001b[38;5;124m'\u001b[39m)\n\u001b[1;32m     21\u001b[0m     \u001b[38;5;28;01mif\u001b[39;00m(writeFiles):\n\u001b[1;32m     23\u001b[0m         data\u001b[38;5;241m.\u001b[39mastype(\u001b[38;5;124m\"\u001b[39m\u001b[38;5;124m>f8\u001b[39m\u001b[38;5;124m\"\u001b[39m)\u001b[38;5;241m.\u001b[39mtofile(fname)\n",
      "\u001b[0;31mNameError\u001b[0m: name 'setupNotes' is not defined"
     ]
    }
   ],
   "source": [
    "# SGD Boundary\n",
    "z = -np.cumsum(dz)\n",
    "\n",
    "sgdd = 20\n",
    "a0 = -0.0573\n",
    "c0 = 0.0832\n",
    "b = -7.53e-4\n",
    "\n",
    "if sgdd != 0:\n",
    "    sgdu = np.zeros([grid_params['Nr'],grid_params['Ny']])\n",
    "    sgdS = np.zeros([grid_params['Nr'],grid_params['Ny']])\n",
    "    sgdT = np.zeros([grid_params['Nr'],grid_params['Ny']])\n",
    "    sgdMu = np.zeros([grid_params['Nr'],grid_params['Ny']])\n",
    "    sgdMtr = np.zeros([grid_params['Nr'],grid_params['Ny']])\n",
    "    sgd = 0.0123 * 3\n",
    "    tau = 3600\n",
    "    sgdi = np.where((z < -domain_params['H'] + sgdd))\n",
    "    for sgdii in sgdi[0]:\n",
    "        print(sgdi[0])\n",
    "        print(sgdii)\n",
    "        sgdu[sgdii, :] = sgd / run_config['horiz_res_m'] / (dz[sgdii])\n",
    "        sgdS[sgdii, :] = 0\n",
    "        sgdT[sgdii, :] = a0 * sgdS[sgdii, 0] + c0 + b * -z[sgdii]\n",
    "        sgdMu[sgdii, :] = 1\n",
    "        sgdMtr[sgdii, :] = sgd * tau / (sgdd * run_config['horiz_res_m'] * run_config['horiz_res_m'])\n",
    "\n",
    "    write_bin(\"T.sgd\", sgdT)\n",
    "    write_bin(\"S.sgd\", sgdS)\n",
    "    write_bin(\"U.sgd\", sgdu)\n",
    "    # write_bin(\"Mu.sgd\", sgdMu)\n",
    "    # write_bin(\"Mtr.sgd\", sgdMtr)\n",
    "plt.figure(1)\n",
    "plt.plot(sgdT[:,0],z)\n",
    "plt.title('T')\n",
    "plt.figure(2)\n",
    "plt.plot(sgdS[:,0],z)\n",
    "plt.title('S')\n",
    "plt.figure(3)\n",
    "plt.plot(sgdu[:,0],z)\n",
    "plt.title('U')"
   ]
  },
  {
   "cell_type": "code",
   "execution_count": 21,
   "id": "4f710c09-4ad2-4ca5-8e06-c70900954509",
   "metadata": {},
   "outputs": [
    {
     "data": {
      "text/plain": [
       "Text(0.5, 1.0, 'U')"
      ]
     },
     "execution_count": 21,
     "metadata": {},
     "output_type": "execute_result"
    },
    {
     "data": {
      "image/png": "[encoded data removed]",
      "text/plain": [
       "<Figure size 640x480 with 1 Axes>"
      ]
     },
     "metadata": {},
     "output_type": "display_data"
    },
    {
     "data": {
      "image/png": "[encoded data removed]",
      "text/plain": [
       "<Figure size 640x480 with 1 Axes>"
      ]
     },
     "metadata": {},
     "output_type": "display_data"
    },
    {
     "data": {
      "image/png": "[encoded data removed]",
      "text/plain": [
       "<Figure size 640x480 with 1 Axes>"
      ]
     },
     "metadata": {},
     "output_type": "display_data"
    }
   ],
   "source": [
    "# Temperature profile boundary\n",
    "\n",
    "gravity = 9.81\n",
    "sbeta = 8.0e-4\n",
    "talpha = 0.4e-4\n",
    "rho0 = 999.8\n",
    "T0 = 1\n",
    "S0 = 34\n",
    "\n",
    "tcd = 40\n",
    "Tmin = -1\n",
    "Tmax = 1\n",
    "Tc = (Tmax + Tmin) / 2\n",
    "Trange = Tmax - Tmin\n",
    "T2 = np.zeros([grid_params['Nr'],grid_params['Ny']])\n",
    "for j in np.arange(0,grid_params['Ny']):\n",
    "    T2[:,j] = Tc - Trange / 2 * np.tanh(np.pi * (z + tcd) / tcd)\n",
    "Tconst = np.zeros([grid_params['Nr'],grid_params['Ny']]) + 0.4\n",
    "T = T2\n",
    "\n",
    "Sc = 33.5\n",
    "Srange = -1\n",
    "S2 = np.zeros([grid_params['Nr'],grid_params['Ny']])\n",
    "for j in np.arange(0,grid_params['Ny']):\n",
    "    S2[:,j] = Sc + Srange / 2 * np.tanh(np.pi * (z + tcd) / tcd)\n",
    "Sconst = np.zeros([grid_params['Nr'],grid_params['Ny']]) + 35\n",
    "\n",
    "S = S2\n",
    "\n",
    "Rref = rho0 * (1 - talpha * (T - T0) + sbeta * (S - S0))\n",
    "\n",
    "t = np.zeros([grid_params['Nr'],grid_params['Ny'],grid_params['Nx']])\n",
    "s = np.zeros([grid_params['Nr'],grid_params['Ny'],grid_params['Nx']])\n",
    "\n",
    "for j in np.arange(0,grid_params['Ny']):\n",
    "    for k in np.arange(0, grid_params['Nr']):\n",
    "        t[k, j, :] = t[k, j, :] + T[k,j]\n",
    "        s[k, j, :] = s[k, j, :] + S[k,j]\n",
    "\n",
    "ubound = np.zeros([grid_params['Nr'],grid_params['Ny']])\n",
    "\n",
    "\n",
    "\n",
    "# write_bin(\"T.init\", t)\n",
    "# write_bin(\"S.init\", s)\n",
    "# write_bin(\"S.bound\", S)\n",
    "# write_bin(\"T.bound\", T)\n",
    "# write_bin(\"U.bound\", ubound)\n",
    "\n",
    "plt.figure(1)\n",
    "plt.plot(T[:,0],z)\n",
    "plt.title('T')\n",
    "plt.figure(2)\n",
    "plt.plot(S[:,0],z)\n",
    "plt.title('S')\n",
    "plt.figure(3)\n",
    "plt.plot(ubound[:,0],z)\n",
    "plt.title('U')\n"
   ]
  },
  {
   "cell_type": "markdown",
   "id": "ba00c03b",
   "metadata": {},
   "source": [
    "\n",
    "## Physical parameters"
   ]
  },
  {
   "cell_type": "code",
   "execution_count": 25,
   "id": "1b64c50a",
   "metadata": {},
   "outputs": [],
   "source": [
    "#---physical params---#\n",
    "\n",
    "params01 = {} \n",
    "\n",
    "# physical constants\n",
    "g = 9.81 # acc. due to gravity (m/s**2)\n",
    "Omega = 2*np.pi*366/365/86400 # planetary rotation rate \n",
    "Rp = 6400*1000 # planetary radius (m)\n",
    "lat_min = -70 # latitude at southern boundary (degrees)\n",
    "#f0 = 2*Omega*np.sin(np.deg2rad(lat_min)) # coriolis param (1/s)\n",
    "#beta = (2*Omega*np.cos(np.deg2rad(lat_min))/Rp) # beta param\n",
    "\n",
    "\n",
    "# momentum scheme\n",
    "params01['vectorInvariantMomentum'] = True\n",
    "\n",
    "#Note: here and elsewhere, we need to be explicit about floats vs ints. E.g., use 12.0 to represent float and\n",
    "# 12 for int\n",
    "\n",
    " #Tref = 40*0.,\n",
    " #Sref = 40*34.,\n",
    " #viscAz=0.00001,\n",
    " #viscC2smag=2.2,\n",
    " #diffKzT=0.00001,\n",
    " #diffKhT=30,\n",
    " #diffKzS=0.00001,\n",
    " #diffKhS=30,\n",
    " #no_slip_sides=.FALSE.,\n",
    " #no_slip_bottom=.TRUE.,\n",
    " #rigidLid=.FALSE.,\n",
    " #implicitFreeSurface=.TRUE.,\n",
    " #staggerTimeStep=.TRUE.,\n",
    "readBinaryPrec=64\n",
    " #eosType='JMD95Z', \n",
    " #tempAdvScheme=33,\n",
    " #saltAdvScheme=33,\n",
    "f0=0.\n",
    "beta=0.E-11\n",
    " #selectAddFluid=1,\n",
    "\n",
    "\n",
    "# viscosity parameters\n",
    "params01['viscAz'] = 0.00001 # Vertical viscosity\n",
    "params01['viscC2smag'] = 2.2 # ??? viscosity\n",
    "\n",
    "# advection and time stepping\n",
    "params01['tempAdvScheme'] = 33 # needs to be int\n",
    "params01['saltAdvScheme'] = 33 # needs to be int\n",
    "#params01['tempStepping'] = True\n",
    "#params01['saltStepping'] = run_config['evolve_salt']\n",
    "params01['staggerTimeStep'] = True\n",
    "\n",
    "# diffusivity\n",
    "params01['diffKzT'] = 0.00001 # Vertical temp diffusion \n",
    "params01['diffKhS'] = 30 # ???diffusion\n",
    "params01['diffKhT'] = 30 # Horizontal temp diffusion\n",
    "\n",
    "# equation of state\n",
    "params01['eosType'] = 'JMD95Z'\n",
    "params01['Tref'] = np.ones(grid_params['Nr'])*0. #ref temp\n",
    "params01['Sref'] = np.ones(grid_params['Nr'])*34. #ref salt\n",
    "\n",
    "# boundary conditions\n",
    "params01['no_slip_sides'] = False\n",
    "params01['no_slip_bottom'] = True\n",
    "params01['rigidLid'] = False\n",
    "params01['implicitFreeSurface'] = True\n",
    "\n",
    "# physical parameters\n",
    "params01['f0'] = f0\n",
    "params01['beta'] = beta\n",
    "params01['gravity'] = g\n",
    "\n",
    "# misc\n",
    "params01['selectAddFluid'] = 1\n",
    "\n",
    "\n",
    "# AS: Don't allow partial cell height to fall below min grid spacing\n",
    "#params01['hFacMinDr'] = np.min(dz)"
   ]
  },
  {
   "cell_type": "markdown",
   "id": "f4d03c1d-cc26-4242-83bb-621b7fa3dbfb",
   "metadata": {},
   "source": [
    "## Check for numericl stability?"
   ]
  },
  {
   "cell_type": "markdown",
   "id": "450dd8cc",
   "metadata": {},
   "source": [
    "## Numeric solvers and I/O controls"
   ]
  },
  {
   "cell_type": "code",
   "execution_count": 27,
   "id": "9844f2e0",
   "metadata": {},
   "outputs": [],
   "source": [
    "# numeric solver parameters \n",
    "\n",
    "params02 = {}\n",
    "params02['cg2dMaxIters'] = 300\n",
    "params02['cg2dTargetResidual'] = 1e-13\n",
    "params02['cg3dMaxIters'] = 20\n",
    "params02['cg3dTargetResidual'] = 1e-8\n",
    "\n",
    "# time stepping parameters \n",
    "params03 = {}\n",
    "params03['nIter0'] = 0\n",
    "#params03['endTime'] = 864000.0\n",
    "deltaT = 100.0\n",
    "params03['abEps'] = 0.1\n",
    "\n",
    "#if run_config['testing']:\n",
    "    \n",
    "params03['chkptFreq'] = 0.0\n",
    "params03['pChkptFreq'] = 0.0\n",
    "params03['taveFreq'] = 0.0\n",
    "params03['dumpFreq'] = 86400.0\n",
    "params03['taveFreq'] = 0.0\n",
    "params03['monitorFreq'] = 86400.0\n",
    "params03['monitorSelect'] = 2\n",
    "\n",
    "\n",
    "params03['periodicExternalForcing'] = False\n",
    "params03['ExternForcingPeriod'] = 100.0\n",
    "params03['ExternForcingCycle'] = 1000.0 "
   ]
  },
  {
   "cell_type": "code",
   "execution_count": 28,
   "id": "7535b31b",
   "metadata": {},
   "outputs": [],
   "source": [
    "if run_config['test']:\n",
    "    nTimeSteps = 10\n",
    "else:\n",
    "    nTimeSteps = np.ceil(run_config['ndays']*secsInDay/detlaT)\n",
    "\n",
    "simTimeAct = nTimeSteps*deltaT\n",
    "\n",
    "params03['endTime'] = int(params03['nIter0']*deltaT+simTimeAct)\n",
    "params03['deltaT'] = np.round(deltaT)\n",
    "grid_params['Nt'] = nTimeSteps"
   ]
  },
  {
   "cell_type": "markdown",
   "id": "d1fd85a3",
   "metadata": {},
   "source": [
    "## Create 'data' files"
   ]
  },
  {
   "cell_type": "code",
   "execution_count": 29,
   "id": "4822541e",
   "metadata": {},
   "outputs": [],
   "source": [
    "# NOTE: These steps generate the data text files located int the input directory"
   ]
  },
  {
   "cell_type": "code",
   "execution_count": 30,
   "id": "e7f2231f",
   "metadata": {},
   "outputs": [],
   "source": [
    "# gather params for data file \n",
    "params04 = {} #<-- using params04 to be consistent with ordering in Andrew's code\n",
    "params04['usingCartesianGrid'] = grid_params['usingCartesianGrid']\n",
    "params04['usingSphericalPolarGrid'] = grid_params['usingSphericalPolarGrid']\n",
    "params04['delX']  = grid_params['delX']\n",
    "params04['delY'] = grid_params['delY']\n",
    "params04['delZ'] = dz"
   ]
  },
  {
   "cell_type": "code",
   "execution_count": 31,
   "id": "dcd50364",
   "metadata": {},
   "outputs": [],
   "source": [
    "# get data fnames param\n",
    "params05 = {}\n",
    "params05['bathyFile'] ='bathymetry.bin'\n",
    "params05['hydrogThetaFile'] = 'tempini.bin'\n",
    "params05['hydrogSaltFile'] = 'saltini.bin'\n"
   ]
  },
  {
   "cell_type": "code",
   "execution_count": 32,
   "id": "ef3361b8",
   "metadata": {},
   "outputs": [],
   "source": [
    "data_params = [params01, params02, params03, params04, params05]\n",
    "rcf.write_data(run_config, data_params, group_name='data', lf=run_config['lf'])"
   ]
  },
  {
   "cell_type": "code",
   "execution_count": null,
   "id": "64e508fc",
   "metadata": {},
   "outputs": [],
   "source": []
  },
  {
   "cell_type": "markdown",
   "id": "56330360-11a8-43a9-8004-e5bcaf92c331",
   "metadata": {},
   "source": [
    "## Make SIZE.h File"
   ]
  },
  {
   "cell_type": "code",
   "execution_count": 19,
   "id": "6dce926b-aca7-44b1-a5e3-225dd1103572",
   "metadata": {},
   "outputs": [],
   "source": [
    "# generate size.h file\n",
    "rcf.createSIZEh(run_config, grid_params)"
   ]
  },
  {
   "cell_type": "markdown",
   "id": "1017a15a",
   "metadata": {},
   "source": [
    "## Specifiy relaxation of temperature and salinity "
   ]
  },
  {
   "cell_type": "code",
   "execution_count": 20,
   "id": "f95bff1e",
   "metadata": {},
   "outputs": [],
   "source": [
    "OBCS = {}"
   ]
  },
  {
   "cell_type": "markdown",
   "id": "7683dfac",
   "metadata": {},
   "source": [
    "## Set boundary conditions"
   ]
  },
  {
   "cell_type": "code",
   "execution_count": null,
   "id": "90ce6b15",
   "metadata": {
    "collapsed": true,
    "jupyter": {
     "outputs_hidden": true
    }
   },
   "outputs": [],
   "source": []
  },
  {
   "cell_type": "markdown",
   "id": "cba72030",
   "metadata": {},
   "source": [
    "## Specify Diagnostics"
   ]
  },
  {
   "cell_type": "code",
   "execution_count": 21,
   "id": "05dc7326",
   "metadata": {},
   "outputs": [
    {
     "name": "stdout",
     "output_type": "stream",
     "text": [
      "{'diag_mnc': False, 'fields(1,1)': 'UVEL', 'fileName(1)': 'UVEL', 'frequency(1)': 500.0, 'timePhase(1)': 0.0, 'fields(1,2)': 'VVEL', 'fileName(2)': 'VVEL', 'frequency(2)': 500.0, 'timePhase(2)': 0.0, 'fields(1,3)': 'WVEL', 'fileName(3)': 'WVEL', 'frequency(3)': 500.0, 'timePhase(3)': 0.0, 'fields(1,4)': 'UVELTH', 'fileName(4)': 'UVELTH', 'frequency(4)': 500.0, 'timePhase(4)': 0.0, 'fields(1,5)': 'VVELTH', 'fileName(5)': 'VVELTH', 'frequency(5)': 500.0, 'timePhase(5)': 0.0, 'fields(1,6)': 'WVELTH', 'fileName(6)': 'WVELTH', 'frequency(6)': 500.0, 'timePhase(6)': 0.0, 'fields(1,7)': 'THETA', 'fileName(7)': 'THETA', 'frequency(7)': 500.0, 'timePhase(7)': 0.0, 'fields(1,8)': 'UVEL', 'fileName(8)': 'UVEL_inst', 'frequency(8)': -100.0, 'timePhase(8)': 0.0, 'fields(1,9)': 'VVEL', 'fileName(9)': 'VVEL_inst', 'frequency(9)': -100.0, 'timePhase(9)': 0.0, 'fields(1,10)': 'THETA', 'fileName(10)': 'THETA_inst', 'frequency(10)': -100.0, 'timePhase(10)': 0.0}\n"
     ]
    }
   ],
   "source": [
    "# Here we specify variables that should saved (i.e., written to disk) at various time intervals\n",
    "\n",
    "# adjust output frequency\n",
    "if run_config['test']:\n",
    "    run_config['inst_freq'] = 1 # multiples of timestep\n",
    "    run_config['tavg_freq'] = 5 # multiples of timestep\n",
    "    \n",
    "else:\n",
    "    run_config['inst_freq'] = 1 # multiples of year\n",
    "    run_config['tavg_freq'] = 5 # multiples of year\n",
    "\n",
    "\n",
    "#---------specify time averaged fields------#\n",
    "# NOTE: many more options available see mitgcm docs\n",
    "diag_fields_avg = ['UVEL', 'VVEL', 'WVEL','UVELTH', 'VVELTH','WVELTH','THETA']\n",
    "\n",
    "# diag_fields_avg = ['UVEL', 'VVEL', 'WVEL', 'UVELSQ', 'VVELSQ', 'WVELSQ',\n",
    "#                   'UVELTH', 'VVELTH', 'WVELTH', 'THETA', 'THETASQ',\n",
    "#                   'PHIHYD', 'LaUH1TH', 'LaVH1TH', 'LaHw1TH','LaHs1TH']\n",
    "\n",
    "numdiags_avg = len(diag_fields_avg)\n",
    "diag_phase_avg = 0.0\n",
    "\n",
    "if run_config['test'] == True:\n",
    "    diag_freq_inst = -run_config['inst_freq']*deltaT # negative values indicate snapshots at given interval\n",
    "    diag_freq_avg = run_config['tavg_freq']*deltaT # positive values indicate time average over specified interval\n",
    "else:\n",
    "    diag_freq_inst = -run_config['inst_freq']*secsInYear \n",
    "    diag_freq_avg = run_config['tavg_freq']*secsInYear\n",
    "    \n",
    "    \n",
    "diag_params01 = {}\n",
    "diag_params01['diag_mnc'] = False #<---you would need to modify this if you want netcdf output\n",
    "\n",
    "for ii in range(numdiags_avg):  \n",
    "    n = ii+1\n",
    "    diag_params01['fields(1,%s)'%n] = diag_fields_avg[ii]\n",
    "    diag_params01['fileName(%s)'%n] = diag_fields_avg[ii]\n",
    "    diag_params01['frequency(%s)'%n] = diag_freq_avg\n",
    "    diag_params01['timePhase(%s)'%n] = diag_phase_avg\n",
    "\n",
    "    \n",
    "#--------specify instanteous fields (i.e. snapshots)--------#\n",
    "diag_fields_inst = ['UVEL', 'VVEL', 'THETA']\n",
    "numdiags_inst = len(diag_fields_inst)\n",
    "diag_phase_inst = 0.0\n",
    "\n",
    "for ii in range(numdiags_inst):\n",
    "    n = numdiags_avg+ii+1\n",
    "    diag_params01['fields(1,%s)'%n] = diag_fields_inst[ii]\n",
    "    diag_params01['fileName(%s)'%n] = diag_fields_inst[ii] + '_inst'\n",
    "    diag_params01['frequency(%s)'%n] = diag_freq_inst\n",
    "    diag_params01['timePhase(%s)'%n] = diag_phase_inst\n",
    "    \n",
    "print(diag_params01)\n",
    "Ndiags = n"
   ]
  },
  {
   "cell_type": "code",
   "execution_count": 22,
   "id": "6ba8864c",
   "metadata": {},
   "outputs": [],
   "source": [
    "diag_params02={}\n",
    "diag_params = [diag_params01, diag_params02]\n",
    "rcf.write_data(run_config, diag_params, group_name='diagnostics')"
   ]
  },
  {
   "cell_type": "code",
   "execution_count": 23,
   "id": "0b11e6cd",
   "metadata": {},
   "outputs": [
    {
     "ename": "NameError",
     "evalue": "name 'Nlayers' is not defined",
     "output_type": "error",
     "traceback": [
      "\u001b[0;31m---------------------------------------------------------------------------\u001b[0m",
      "\u001b[0;31mNameError\u001b[0m                                 Traceback (most recent call last)",
      "Cell \u001b[0;32mIn[23], line 2\u001b[0m\n\u001b[1;32m      1\u001b[0m \u001b[38;5;66;03m## create DIAGNOSTICS_SIZE.h\u001b[39;00m\n\u001b[0;32m----> 2\u001b[0m Nlevels \u001b[38;5;241m=\u001b[39m np\u001b[38;5;241m.\u001b[39mmax([grid_params[\u001b[38;5;124m'\u001b[39m\u001b[38;5;124mNr\u001b[39m\u001b[38;5;124m'\u001b[39m], Nlayers])\n\u001b[1;32m      3\u001b[0m rcf\u001b[38;5;241m.\u001b[39mcreateDIAGSIZEh(run_config, Ndiags, Nlevels)\n",
      "\u001b[0;31mNameError\u001b[0m: name 'Nlayers' is not defined"
     ]
    }
   ],
   "source": [
    "## create DIAGNOSTICS_SIZE.h\n",
    "Nlevels = np.max([grid_params['Nr'], Nlayers])\n",
    "rcf.createDIAGSIZEh(run_config, Ndiags, Nlevels)"
   ]
  },
  {
   "cell_type": "markdown",
   "id": "0970d9d4",
   "metadata": {},
   "source": [
    "## Generate eedata "
   ]
  },
  {
   "cell_type": "code",
   "execution_count": 33,
   "id": "caa4b1e9",
   "metadata": {},
   "outputs": [],
   "source": [
    "# create eedata\n",
    "rcf.create_eedata(run_config, grid_params['nTx'], grid_params['nTy'])"
   ]
  },
  {
   "cell_type": "markdown",
   "id": "9514e826",
   "metadata": {},
   "source": [
    "## Estimate wall clock time"
   ]
  },
  {
   "cell_type": "markdown",
   "id": "86eb8750",
   "metadata": {},
   "source": [
    "## Next steps\n",
    "\n",
    "Once you've successfully set up the model experiment, you will need to do the following:\n",
    "\n",
    "+ Navigate to the build directory and compile the code (i.e., `sh build.sh`). This may take a couple minutes and will generates lots of new files in the build directory. The key file is the `mitgcmuv` executable.\n",
    "\n",
    "\n",
    "\n",
    "+ Next, go to the results directory and submit the job to Sherlock queue (`sh run.sh`). It is recommended that you do this from a login node. This should generate a unique output_xxx file, which logs error messages for each run. You will get emails when the job is released from the queue and when it is completed. Test runs normally take a few minutes. A successful run will generate dozens of output files, including data files like `THETA_inst_000000.data`. \n",
    "\n",
    "\n",
    "To check if the job is running:   `squeue | grep ejdawson`\n"
   ]
  }
 ],
 "metadata": {
  "kernelspec": {
   "display_name": "Python 3 (ipykernel)",
   "language": "python",
   "name": "python3"
  },
  "language_info": {
   "codemirror_mode": {
    "name": "ipython",
    "version": 3
   },
   "file_extension": ".py",
   "mimetype": "text/x-python",
   "name": "python",
   "nbconvert_exporter": "python",
   "pygments_lexer": "ipython3",
   "version": "3.12.2"
  }
 },
 "nbformat": 4,
 "nbformat_minor": 5
}
