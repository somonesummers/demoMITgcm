{
 "cells": [
  {
   "cell_type": "code",
   "execution_count": 1,
   "metadata": {
    "collapsed": true
   },
   "outputs": [],
   "source": [
    "%load_ext autoreload\n",
    "%autoreload 2"
   ]
  },
  {
   "cell_type": "code",
   "execution_count": 2,
   "metadata": {},
   "outputs": [
    {
     "name": "stdout",
     "output_type": "stream",
     "text": [
      "/home/groups/earlew/ejdawson/idealized_channel_demo/run_config\n"
     ]
    }
   ],
   "source": [
    "%cd /home/groups/earlew/ejdawson/idealized_channel_demo/run_config"
   ]
  },
  {
   "cell_type": "code",
   "execution_count": 3,
   "metadata": {},
   "outputs": [
    {
     "name": "stdout",
     "output_type": "stream",
     "text": [
      "build_domain_funcs.py  __pycache__\t      run_config_funcs.py\r\n",
      "helper_functions.py    quick_plot_funcs.py    run_ctrl_funcs_xx.py\r\n",
      "old_scripts\t       run_analysis_funcs.py  run_utils.py\r\n"
     ]
    }
   ],
   "source": [
    "!ls ../main_scripts"
   ]
  },
  {
   "cell_type": "code",
   "execution_count": 1,
   "metadata": {
    "collapsed": true
   },
   "outputs": [
    {
     "ename": "ModuleNotFoundError",
     "evalue": "No module named 'main_scipts'",
     "output_type": "error",
     "traceback": [
      "\u001b[0;31m---------------------------------------------------------------------------\u001b[0m",
      "\u001b[0;31mModuleNotFoundError\u001b[0m                       Traceback (most recent call last)",
      "Cell \u001b[0;32mIn[1], line 13\u001b[0m\n\u001b[1;32m     10\u001b[0m \u001b[38;5;28;01mimport\u001b[39;00m \u001b[38;5;21;01msys\u001b[39;00m\n\u001b[1;32m     11\u001b[0m sys\u001b[38;5;241m.\u001b[39mpath\u001b[38;5;241m.\u001b[39minsert(\u001b[38;5;241m0\u001b[39m,\u001b[38;5;124m'\u001b[39m\u001b[38;5;124m/home/groups/earlew/ejdawson/idealized_channel_demo/main_scripts\u001b[39m\u001b[38;5;124m'\u001b[39m)\n\u001b[0;32m---> 13\u001b[0m \u001b[38;5;28;01mfrom\u001b[39;00m \u001b[38;5;21;01mmain_scipts\u001b[39;00m \u001b[38;5;28;01mimport\u001b[39;00m build_domain_funcs \u001b[38;5;28;01mas\u001b[39;00m build_domain \n\u001b[1;32m     14\u001b[0m \u001b[38;5;28;01mimport\u001b[39;00m \u001b[38;5;21;01mrun_config_funcs\u001b[39;00m \u001b[38;5;28;01mas\u001b[39;00m \u001b[38;5;21;01mrcf\u001b[39;00m\n",
      "\u001b[0;31mModuleNotFoundError\u001b[0m: No module named 'main_scipts'"
     ]
    }
   ],
   "source": [
    "import os\n",
    "import numpy as np\n",
    "import matplotlib.pylab as plt\n",
    "import pickle\n",
    "import importlib\n",
    "import shutil\n",
    "\n",
    "from scipy.interpolate import make_interp_spline\n",
    "\n",
    "import sys\n",
    "sys.path.insert(0,'/home/groups/earlew/ejdawson/idealized_channel_demo/main_scripts')\n",
    "\n",
    "from main_scipts import build_domain_funcs as build_domain \n",
    "import run_config_funcs as rcf # import helpter functions"
   ]
  },
  {
   "cell_type": "markdown",
   "metadata": {},
   "source": [
    "## Gather work environment info"
   ]
  },
  {
   "cell_type": "code",
   "execution_count": 5,
   "metadata": {},
   "outputs": [
    {
     "name": "stdout",
     "output_type": "stream",
     "text": [
      "env: GROUP_SCRATCH=/scratch/groups/earlew\n",
      "env: GROUP_HOME=/home/groups/earlew\n"
     ]
    }
   ],
   "source": [
    "%env GROUP_SCRATCH=/scratch/groups/earlew\n",
    "%env GROUP_HOME=/home/groups/earlew"
   ]
  },
  {
   "cell_type": "code",
   "execution_count": 6,
   "metadata": {},
   "outputs": [
    {
     "name": "stdout",
     "output_type": "stream",
     "text": [
      "/home/groups/earlew\r\n"
     ]
    }
   ],
   "source": [
    "!echo $GROUP_HOME"
   ]
  },
  {
   "cell_type": "code",
   "execution_count": 7,
   "metadata": {},
   "outputs": [
    {
     "name": "stdout",
     "output_type": "stream",
     "text": [
      "/oak/stanford/schools/ees\n",
      "/scratch/users/ejdawson\n",
      "/home/users/ejdawson\n",
      "/scratch/groups/earlew\n",
      "/home/groups/earlew\n"
     ]
    }
   ],
   "source": [
    "print(os.environ['OAK'])\n",
    "print(os.environ['SCRATCH'])\n",
    "print(os.environ['HOME'])\n",
    "print(os.environ['GROUP_SCRATCH']) \n",
    "print(os.environ['GROUP_HOME'])"
   ]
  },
  {
   "cell_type": "code",
   "execution_count": 8,
   "metadata": {
    "collapsed": true
   },
   "outputs": [],
   "source": [
    "group_scratch_dir = os.environ['GROUP_SCRATCH'] \n",
    "group_home_dir = os.environ['GROUP_HOME'] # recommended location to store  code \n",
    "\n",
    "# oak_dir = os.environ['OAK'] # we don't use OAK here, but this file system is for long term storage\n",
    "# home_dir = os.environ['HOME'] # another option for storing personal code\n",
    "pwd = os.getcwd()"
   ]
  },
  {
   "cell_type": "markdown",
   "metadata": {},
   "source": [
    "Notes: \n",
    "\n",
    "+ Everyone in our group has access to files stored in `$GROUP_SCRATCH` and `$GROUP_HOME`. \n",
    "+ Files are purged from the scratch filesystem 90 days after they are last modified.\n",
    "+ Use your home directory to store small files (e.g., code) that you wish to keep long term.\n",
    "+ Copy files to OAK for long term storage"
   ]
  },
  {
   "cell_type": "code",
   "execution_count": 9,
   "metadata": {},
   "outputs": [
    {
     "name": "stdout",
     "output_type": "stream",
     "text": [
      "SUNet_ID: ejdawson\n"
     ]
    }
   ],
   "source": [
    "SUNet_ID = os.environ['HOME'].split('/')[-1]\n",
    "print(\"SUNet_ID: %s\" %SUNet_ID)\n",
    "email = '%s@stanford.edu' %SUNet_ID"
   ]
  },
  {
   "cell_type": "markdown",
   "metadata": {},
   "source": [
    "## Main run configuration"
   ]
  },
  {
   "cell_type": "code",
   "execution_count": 10,
   "metadata": {
    "collapsed": true
   },
   "outputs": [],
   "source": [
    "# set high level run configurations\n",
    "\n",
    "run_config = {}\n",
    "run_config['ncpus_xy'] = [25, 10] # cpu distribution in the x and y directions\n",
    "run_config['run_name'] = 'shelf_channel_500_250_10km'\n",
    "run_config['nyrs'] = 6 # simulaton time (years)\n",
    "run_config['test'] = False # if True, run_config['nyrs'] will be shortened to a few time steps\n",
    "\n",
    "run_config['horiz_res_km'] = 10 # horizontal grid spacing (km)\n",
    "run_config['Lx_km'] = 4000 # domain size in x (m)\n",
    "run_config['Ly_km'] = 1500 # domain size in y (m)\n",
    "# NOTE: the number of grid points in x and y should be multiples of the number of cpus.\n",
    "\n",
    "run_config['evolve_salt'] = False\n",
    "run_config['use_GMRedi'] = False # should be set to false for eddy permitting resolutions\n",
    "run_config['periodic_forcing'] = False # note: the code is not yet set up to handle time-dependent forcing\n",
    "\n",
    "MITgcm_release = 'MITgcm-checkpoint67g' #mid-2019 release (have not tested other versions)\n",
    "MITgcm_code_dir = os.path.join(group_home_dir, 'shared/mitgcm_releases', MITgcm_release)\n",
    "\n",
    "# you probably don't need to touch this\n",
    "run_config['use_MPI'] = True # for multi-processing\n",
    "run_config['lf'] = '\\r\\n' # linebreak characters \n",
    "run_config['exps_dir'] = os.path.join(group_scratch_dir, '%s/research/modeling/MITgcm_PG/experiments' %SUNet_ID) \n",
    "run_config['run_dir'] = os.path.join(run_config['exps_dir'], run_config['run_name'])"
   ]
  },
  {
   "cell_type": "code",
   "execution_count": null,
   "metadata": {
    "collapsed": true
   },
   "outputs": [],
   "source": []
  },
  {
   "cell_type": "code",
   "execution_count": 11,
   "metadata": {},
   "outputs": [
    {
     "data": {
      "text/plain": [
       "{'Lx_km': 4000,\n",
       " 'Ly_km': 1500,\n",
       " 'evolve_salt': False,\n",
       " 'exps_dir': '/scratch/groups/earlew/ejdawson/research/modeling/MITgcm_PG/experiments',\n",
       " 'horiz_res_km': 10,\n",
       " 'lf': '\\r\\n',\n",
       " 'ncpus_xy': [25, 10],\n",
       " 'nyrs': 6,\n",
       " 'periodic_forcing': False,\n",
       " 'run_dir': '/scratch/groups/earlew/ejdawson/research/modeling/MITgcm_PG/experiments/shelf_channel_500_250_10km',\n",
       " 'run_name': 'shelf_channel_500_250_10km',\n",
       " 'test': False,\n",
       " 'use_GMRedi': False,\n",
       " 'use_MPI': True}"
      ]
     },
     "execution_count": 11,
     "metadata": {},
     "output_type": "execute_result"
    }
   ],
   "source": [
    "run_config"
   ]
  },
  {
   "cell_type": "markdown",
   "metadata": {},
   "source": [
    "## Generate new experiment directory and copy over defaults"
   ]
  },
  {
   "cell_type": "code",
   "execution_count": 12,
   "metadata": {
    "collapsed": true
   },
   "outputs": [],
   "source": [
    "# create experimentary directory on SCRATCH and copy over default configuration\n",
    "# NOTE: this step does not overwrite existing directories. \n",
    "run_subdir_list = ['build', 'code', 'input', 'results']\n",
    "for subdir in run_subdir_list:\n",
    "    run_config['%s_dir'% subdir] = os.path.join(run_config['run_dir'], subdir)\n",
    "    os.makedirs(run_config['%s_dir'% subdir], exist_ok=True)\n",
    "     \n",
    "# copy over defaults\n",
    "default_dirs = os.listdir('DEFAULTS/')\n",
    "for dir00 in default_dirs:\n",
    "    \n",
    "    if dir00.startswith('.'):\n",
    "        continue\n",
    "        \n",
    "    default_dir = 'DEFAULTS/%s/'%dir00\n",
    "    default_files = os.listdir(default_dir)\n",
    "    dst_dir = os.path.join(run_config['run_dir'], dir00)\n",
    "    \n",
    "    for file in default_files:\n",
    "\n",
    "        if file.startswith('.'):\n",
    "            continue\n",
    "        else:\n",
    "            src_fpath = os.path.join(default_dir, file)\n",
    "            shutil.copy2(src_fpath, dst_dir)"
   ]
  },
  {
   "cell_type": "code",
   "execution_count": 13,
   "metadata": {},
   "outputs": [
    {
     "data": {
      "text/plain": [
       "['RBCS_OPTIONS.h',\n",
       " 'GAD_OPTIONS.h~',\n",
       " 'GAD_OPTIONS.h',\n",
       " 'OBCS_OPTIONS.h',\n",
       " 'CPP_OPTIONS.h',\n",
       " 'LAYERS_OPTIONS.h',\n",
       " 'RBCS_OPTIONS.h~',\n",
       " 'packages.conf',\n",
       " 'CPP_EEOPTIONS.h',\n",
       " 'DIAG_OPTIONS.h']"
      ]
     },
     "execution_count": 13,
     "metadata": {},
     "output_type": "execute_result"
    }
   ],
   "source": [
    "# just to see what the default files\n",
    "os.listdir('DEFAULTS/code')"
   ]
  },
  {
   "cell_type": "code",
   "execution_count": 14,
   "metadata": {},
   "outputs": [
    {
     "name": "stdout",
     "output_type": "stream",
     "text": [
      "/scratch/groups/earlew/ejdawson/research/modeling/MITgcm_PG/experiments/shelf_channel_500_250_10km\n",
      "['input', 'results', 'build', 'code']\n"
     ]
    }
   ],
   "source": [
    "print(run_config['run_dir'])\n",
    "print(os.listdir(run_config['run_dir']))"
   ]
  },
  {
   "cell_type": "code",
   "execution_count": 15,
   "metadata": {
    "collapsed": true
   },
   "outputs": [],
   "source": [
    "# create new analysis sub-dir in your home directory\n",
    "analysis_dir = '../analysis/%s'%run_config['run_name']\n",
    "os.makedirs(analysis_dir, exist_ok=True)"
   ]
  },
  {
   "cell_type": "markdown",
   "metadata": {},
   "source": [
    "## Domain  and grid parameters"
   ]
  },
  {
   "cell_type": "code",
   "execution_count": 16,
   "metadata": {
    "collapsed": true
   },
   "outputs": [],
   "source": [
    "secsInDay = 24*60*60\n",
    "secsInYear = 365*secsInDay\n",
    "mInkm = 1000\n",
    "\n",
    "\n",
    "# set domain size\n",
    "domain_params = {}\n",
    "domain_params['Lx'] = run_config['Lx_km']*mInkm # domain size in x (m)\n",
    "domain_params['Ly'] = run_config['Ly_km']*mInkm # domain size in y (m)\n",
    "domain_params['L_sponge'] = 100*mInkm # width of northern sponge layer (m)\n",
    "domain_params['H'] = 4000 # max domain depth (m)"
   ]
  },
  {
   "cell_type": "code",
   "execution_count": null,
   "metadata": {
    "collapsed": true
   },
   "outputs": [],
   "source": []
  },
  {
   "cell_type": "code",
   "execution_count": 17,
   "metadata": {},
   "outputs": [
    {
     "name": "stdout",
     "output_type": "stream",
     "text": [
      "Nx: 400.0\n",
      "Ny: 150.0\n",
      "{'nSx': 1, 'nSy': 1, 'nTx': 1, 'nTy': 1, 'OLx': 3, 'OLy': 3, 'Nr': 70, 'nPx': 25, 'nPy': 10, 'Nx': 400, 'Ny': 150, 'sNx': 16, 'sNy': 15}\n"
     ]
    }
   ],
   "source": [
    "#---grid parameters ---# \n",
    "\n",
    "# NOTE: the only thing you may need to change here is the number of z-grid points)\n",
    "grid_params = {}\n",
    "\n",
    "grid_params['nSx'] = 1 # num of tiles per processor in x-direction\n",
    "grid_params['nSy'] = 1 # num of tiles per processor in y-direction\n",
    "grid_params['nTx'] = 1 # num of threads per processor in x-direction\n",
    "grid_params['nTy'] = 1 # num of threads per processor in y-direction\n",
    "grid_params['OLx'] = 3 # num of overlapping x-gridpoints per tile\n",
    "grid_params['OLy'] = 3 # num of overlapping y-gridpoints per tile\n",
    "grid_params['Nr'] = 70 # num of z-grid points\n",
    "\n",
    "grid_params['nPx'] = run_config['ncpus_xy'][0] #num of processors in x-direction\n",
    "grid_params['nPy'] = run_config['ncpus_xy'][1] #num of processors in x-direction\n",
    "\n",
    "grid_params['Nx'] = domain_params['Lx']/(run_config['horiz_res_km']*mInkm)\n",
    "grid_params['Ny'] = domain_params['Ly']/(run_config['horiz_res_km']*mInkm)\n",
    "\n",
    "print(\"Nx: %s\" %grid_params['Nx'])\n",
    "print(\"Ny: %s\" %grid_params['Ny'])\n",
    "\n",
    "grid_params['sNx'] = grid_params['Nx']/grid_params['nPx']#num of x-gridpoints per tile\n",
    "grid_params['sNy'] = grid_params['Ny']/grid_params['nPy'] #num of y-gridpoints per tile\n",
    "\n",
    "# NOTE: sNx and sNy should be whole numbers/integers. As long we keep the horizontal resolution,\n",
    "# domain dimesions, and number of cpus to be multiples of five, we should be ok. \n",
    "\n",
    "for key, param  in grid_params.items():\n",
    "    assert param%1==0, \"grid parameter needs to be an integer\"\n",
    "    grid_params[key] = int(param)\n",
    "    \n",
    "print(grid_params)\n",
    "#run_config['grid_params'] = grid_params"
   ]
  },
  {
   "cell_type": "code",
   "execution_count": 18,
   "metadata": {
    "collapsed": true
   },
   "outputs": [],
   "source": [
    "# grid_params cont'd\n",
    "grid_params['usingCartesianGrid'] = True\n",
    "grid_params['usingSphericalPolarGrid'] = False \n",
    "\n",
    "# horizontal grid spacing\n",
    "grid_params['delX'] = (domain_params['Lx']/grid_params['Nx'])*np.ones(grid_params['Nx'])\n",
    "grid_params['delY'] = (domain_params['Ly']/grid_params['Ny'])*np.ones(grid_params['Ny'])\n",
    "\n",
    "\n",
    "# vertical grid spacing \n",
    "# spacing increases with depth---can be modified\n",
    "zidx = np.arange(1, grid_params['Nr']+1)\n",
    "aa = 10\n",
    "bb = 10\n",
    "dz1 = 2*domain_params['H']/grid_params['Nr']/(aa+1)\n",
    "dz2 = aa*dz1\n",
    "dz = dz1 + ((dz2-dz1)/2)*(1+np.tanh((zidx-((grid_params['Nr']+1)/2))/aa))\n",
    "zz1 = np.append([0], np.cumsum(dz))\n",
    "zz = -(zz1[:-1] + np.diff(zz1)/2) # layer midpoints\n",
    "\n",
    "grid_params['delR'] = dz\n",
    "grid_params['hFacMinDr'] = dz.min()"
   ]
  },
  {
   "cell_type": "code",
   "execution_count": null,
   "metadata": {
    "collapsed": true
   },
   "outputs": [],
   "source": []
  },
  {
   "cell_type": "markdown",
   "metadata": {},
   "source": [
    "\n",
    "## Physical parameters"
   ]
  },
  {
   "cell_type": "code",
   "execution_count": 19,
   "metadata": {
    "collapsed": true
   },
   "outputs": [],
   "source": [
    "#---physical params---#\n",
    "\n",
    "params01 = {} \n",
    "\n",
    "# physical constants\n",
    "g = 9.81 # acc. due to gravity (m/s**2)\n",
    "Omega = 2*np.pi*366/365/86400 # planetary rotation rate \n",
    "Rp = 6400*mInkm # planetary radius (m)\n",
    "lat_min = -70 # latitude at southern boundary (degrees)\n",
    "f0 = 2*Omega*np.sin(np.deg2rad(lat_min)) # coriolis param (1/s)\n",
    "beta = (2*Omega*np.cos(np.deg2rad(lat_min))/Rp) # beta param\n",
    "\n",
    "\n",
    "# momentum scheme\n",
    "params01['vectorInvariantMomentum'] = True\n",
    "\n",
    "#Note: here and elsewhere, we need to be explicit about floats vs ints. E.g., use 12.0 to represent float and\n",
    "# 12 for int\n",
    "\n",
    "# viscosity parameters\n",
    "params01['viscAr'] = 3e-4 # Vertical viscosity\n",
    "params01['viscA4'] = 0.0 # Biharmonic viscosity\n",
    "params01['viscAh'] = 12.0 #  Horizontal viscosity \n",
    "params01['viscA4Grid'] = 0.1 # Grid-dependent biharmonic viscosity\n",
    "params01['viscAhGrid'] = 0.0 # Grid-dependent viscosity\n",
    "params01['viscA4GridMax'] = 0.5 \n",
    "params01['viscAhGridMax'] = 1.0\n",
    "params01['useAreaViscLength'] = False\n",
    "params01['useFullLeith'] = True\n",
    "params01['viscC4leith'] = 1.0\n",
    "params01['viscC4leithD'] = 1.0\n",
    "params01['viscC2leith'] = 0.0\n",
    "params01['viscC2leithD'] = 0.0\n",
    "\n",
    "# advection and time stepping\n",
    "params01['tempAdvScheme'] = 80 # needs to be int\n",
    "params01['saltAdvScheme'] = 80 # needs to be int\n",
    "params01['tempStepping'] = True\n",
    "params01['saltStepping'] = run_config['evolve_salt']\n",
    "params01['staggerTimeStep'] = True\n",
    "\n",
    "# diffusivity\n",
    "params01['diffKrT'] = 5e-6 # Vertical temp diffusion \n",
    "params01['diffK4T'] = 0.0 # Bi-harmonic diffusion\n",
    "params01['diffKhT'] = 0.0 # Horizontal temp diffusion\n",
    "\n",
    "# equation of state\n",
    "params01['eosType'] = 'LINEAR'\n",
    "params01['tAlpha'] = 1.5e-4 # Linear thermal expansion coeff \n",
    "params01['sBeta'] = 0.0 # Linear thermal expansion coeff (NOTE: needs to be modified if evolving salt!)\n",
    "\n",
    "# boundary conditions\n",
    "params01['no_slip_sides'] = False\n",
    "params01['no_slip_bottom'] = False\n",
    "params01['bottomDragLinear'] = 1.1e-3\n",
    "params01['bottomDragQuadratic'] = 0.0\n",
    "\n",
    "# physical parameters\n",
    "params01['f0'] = f0\n",
    "params01['beta'] = beta\n",
    "params01['gravity'] = g\n",
    "\n",
    "# misc\n",
    "params01['quasiHydrostatic'] = False\n",
    "params01['fPrime'] = 0.0\n",
    "params01['ivdc_kappa'] = 0.0\n",
    "params01['implicitDiffusion'] = True\n",
    "params01['implicitViscosity'] = True\n",
    "params01['exactConserv'] = True\n",
    "params01['useCDscheme'] = False\n",
    "params01['hFacMin'] = 0.1\n",
    "params01['readBinaryPrec'] = 64\n",
    "params01['useSingleCpuIO'] = True\n",
    "params01['debugLevel'] = 1\n",
    "params01['useJamartWetPoints'] = True\n",
    "params01['useJamartMomAdv'] = True\n",
    "\n",
    "\n",
    "# AS: Don't allow partial cell height to fall below min grid spacing\n",
    "params01['hFacMinDr'] = np.min(dz)"
   ]
  },
  {
   "cell_type": "code",
   "execution_count": 132,
   "metadata": {},
   "outputs": [
    {
     "name": "stdout",
     "output_type": "stream",
     "text": [
      "Adding southern shelf...\n",
      "Adding Shelf Canyon...\n",
      "using gaussian funcs...\n"
     ]
    },
    {
     "name": "stderr",
     "output_type": "stream",
     "text": [
      "/home/groups/earlew/ejdawson/idealized_channel_demo/main_scripts/build_domain_funcs.py:123: MatplotlibDeprecationWarning: shading='flat' when X and Y have the same dimensions as C is deprecated since 3.3.  Either specify the corners of the quadrilaterals with X and Y, or pass shading='auto', 'nearest' or 'gouraud', or set rcParams['pcolor.shading'].  This will become an error two minor releases later.\n",
      "  plt.contour(XX/1e3, YY/1e3, h, [-5], colors='k')\n"
     ]
    },
    {
     "data": {
      "image/png": "[encoded data removed]",
      "text/plain": [
       "<Figure size 720x360 with 2 Axes>"
      ]
     },
     "metadata": {},
     "output_type": "display_data"
    },
    {
     "data": {
      "image/png": "[encoded data removed]",
      "text/plain": [
       "<Figure size 864x432 with 2 Axes>"
      ]
     },
     "metadata": {},
     "output_type": "display_data"
    }
   ],
   "source": [
    "# NOTES: This step uses some custom functions from build_domain. \n",
    "# You can use this to add elongated ridges and continent, with cutouts for passages. \n",
    "# You'll need to write your code to add more complex features\n",
    "\n",
    "\n",
    "importlib.reload(build_domain)\n",
    "\n",
    "\n",
    "# Topographic parameters (find better names)\n",
    "domain_params['add_SS'] = True # add southern shelf\n",
    "domain_params['add_SC'] = True # add shelf canyon\n",
    "domain_params['add_DP'] = False # add drake passage\n",
    "domain_params['add_ZR'] = False # add zonal ridge\n",
    "domain_params['add_SAC'] = False # add scotia arc channels\n",
    "\n",
    "domain_params['SS_H'] = 3500 # shelf height (m)\n",
    "domain_params['SS_slope_hW'] = 50*mInkm; # Half-width of shelf slope (m)\n",
    "domain_params['SS_slope_Y'] = 300*mInkm # Meridional position of shelf slope (m)\n",
    "\n",
    "domain_params['SC_MR'] = -500 # canyon depth (relative to the sea floor) (m)\n",
    "domain_params['SC_slope_cc'] = 100*mInkm; # steepness of the canyon slopes (half width) (m)\n",
    "domain_params['SC_X0'] = -500*mInkm # x coord center of canyon\n",
    "domain_params['SC_dX'] = 250*mInkm # width of canyon\n",
    "domain_params['SC_Y0'] = 50 #km, start of canyon in y direction\n",
    "domain_params['SC_Yend'] = 300 #km, end of canyon in y direction\n",
    "domain_params['SC_ss'] = 10*1000 # curvature of scaling function\n",
    "\n",
    "\n",
    "# NOTE: to create a drake passage (DP), the code adds a meridional continent then carves out an opening\n",
    "domain_params['slope_hW'] = domain_params['SS_slope_hW']; # Half-width of shelf slope beyond southern shelf (m)\n",
    "domain_params['DP_sill_H'] = 1500 # Height of drake passage ridge (m)\n",
    "domain_params['DP_Y_mid'] = 1500*mInkm # Center latitude of Drake Passage\n",
    "domain_params['DP_X'] = -1500*mInkm # Longitudinal position of Drake Passage\n",
    "domain_params['DP_dX'] = 500*mInkm # Longitudinal width of slope of Drake passage ridge (m)\n",
    "domain_params['DP_dY'] = 500*mInkm # Latitudinal extent of drake passage ridge (m)\n",
    "domain_params['MR_HoS'] = 100 # height above sea level of meridional ridge (m)\n",
    "\n",
    "# zonal ridge dimensions\n",
    "domain_params['ZR_H'] = -100 # Height of zonal ridge (m)\n",
    "domain_params['ZR_dY'] = 1000*mInkm # zonal length of ZR (m)\n",
    "domain_params['ZR_dX'] = 150*mInkm # Meridional extent of drake passage ridge (m)\n",
    "domain_params['ZR_Y_mid'] = (domain_params['DP_Y_mid']\n",
    "                             - domain_params['DP_dY']/2 \n",
    "                             - domain_params['ZR_dY']/2)# Center latitude of zonal ridge\n",
    "\n",
    "domain_params['ZR_X_min'] = domain_params['DP_X']+150*mInkm# Longitudinal start of ZR\n",
    "\n",
    "\n",
    "# add scotia arc channels\n",
    "domain_params['SAC_X0'] = [-1000*mInkm] \n",
    "domain_params['SAC_dX'] = 200*mInkm \n",
    "domain_params['SAC_sill_H'] = 1000\n",
    "\n",
    "\n",
    "\n",
    "bathy_h = build_domain.add_bathy(run_config, domain_params, grid_params, cmap='viridis',\n",
    "                                 show_plot=True, x_slices_km=[-495], y_slices_km=[20,40,60,80,100,200,220,250,260,270,280,290,300,310,320,400, 1000])\n",
    "\n",
    "# # Enforce minimum ocean depth and add walls along northern and southern boundaries\n",
    "# bathy_h[bathy_h>-100] = 0 # EW NOTE: Not entirely why this done\n",
    "bathy_h[:, 0] = 0 \n",
    "bathy_h[:, -1] = 0\n",
    "\n",
    "\n",
    "\n",
    "# save bathymetry file to input directory\n",
    "input_fnames = {}\n",
    "input_fnames['bathyFile'] = 'bathyFile.bin'\n",
    "\n",
    "bathy_fpath = os.path.join(run_config['input_dir'], input_fnames['bathyFile'])\n",
    "with open(bathy_fpath, 'wb') as f:\n",
    "    bathy_h.T.astype('>f8').tofile(f) #<--- need to transpose (mitgcm expects (z,) y, x)\n",
    "    \n",
    "plt.show()\n"
   ]
  },
  {
   "cell_type": "code",
   "execution_count": 49,
   "metadata": {},
   "outputs": [
    {
     "name": "stdout",
     "output_type": "stream",
     "text": [
      "xx: (400,)\n",
      "yy: (150,)\n"
     ]
    }
   ],
   "source": [
    "    # zonal grid\n",
    "    dx = domain_params['Lx']/grid_params['Nx'] # x-grid res\n",
    "    xx = np.arange(grid_params['Nx'] )*dx\n",
    "    xx = xx-np.mean(xx) # offset so that x=0 is in the center of the domain\n",
    "\n",
    "    # meridional grid   \n",
    "    dy = domain_params['Ly']/grid_params['Ny']   # y-grid res\n",
    "    yy = np.cumsum(dy*np.ones(grid_params['Ny'] )) - dy/2 \n",
    "    # Y increases with increasing latitude. Also, following Andrew and offseting Y by dy/2)\n",
    "\n",
    "    # Plotting mesh\n",
    "    YY, XX = np.meshgrid(yy, xx)\n",
    "    print(\"xx:\",xx.shape)\n",
    "    print(\"yy:\",yy.shape)"
   ]
  },
  {
   "cell_type": "code",
   "execution_count": 111,
   "metadata": {},
   "outputs": [
    {
     "data": {
      "image/png": "[encoded data removed]",
      "text/plain": [
       "<Figure size 432x288 with 1 Axes>"
      ]
     },
     "metadata": {},
     "output_type": "display_data"
    }
   ],
   "source": [
    "#Testing the attenuation function for what multiplies the h function in the geometry build\n",
    "\n",
    "Y0 = 50 #km\n",
    "Yend = 400 #km\n",
    "ss = 15*1000\n",
    "\n",
    "scale = -2 + (1+np.tanh((yy-Y0*1000)/ss)/2) + (1-np.tanh((yy-Yend*1000)/ss)/2)\n",
    "\n",
    "plt.plot(yy/1000,bathy_h[80,:]*scale)\n",
    "plt.grid()\n",
    "plt.show()\n"
   ]
  },
  {
   "cell_type": "markdown",
   "metadata": {},
   "source": [
    "## Ocean initialization and surface forcing"
   ]
  },
  {
   "cell_type": "markdown",
   "metadata": {},
   "source": [
    "### Northern Sponge layer"
   ]
  },
  {
   "cell_type": "code",
   "execution_count": 23,
   "metadata": {},
   "outputs": [
    {
     "data": {
      "image/png": "[encoded data removed]",
      "text/plain": [
       "<Figure size 864x288 with 2 Axes>"
      ]
     },
     "metadata": {},
     "output_type": "display_data"
    }
   ],
   "source": [
    "# specify T and S along northern boundary\n",
    "\n",
    "# Exponential background temperature  \n",
    "Hscale = 750\n",
    "mintemp = 0\n",
    "maxtemp = 10\n",
    "H = domain_params['H']\n",
    "temp_north = mintemp + (maxtemp-mintemp)*(np.exp(zz/Hscale)-np.exp(-H/Hscale))/(1-np.exp(-H/Hscale))\n",
    "\n",
    "# Constant background salinity (currently unused)\n",
    "sRef = 35;    \n",
    "sNorth = sRef*np.ones(grid_params['Nr'])\n",
    "\n",
    "plt.figure(figsize=(12, 4))\n",
    "plt.subplot(121)\n",
    "plt.plot(temp_north, zz)\n",
    "plt.title(\"T at northern boundary\")\n",
    "\n",
    "# compute N2 across meridional transect\n",
    "plt.subplot(122)\n",
    "Tz = np.gradient(temp_north, zz, edge_order=2)\n",
    "N2 = params01['tAlpha']*g*Tz\n",
    "plt.title(\"N2 at northern boundary\")\n",
    "\n",
    "plt.plot(N2, zz)\n",
    "plt.show()"
   ]
  },
  {
   "cell_type": "markdown",
   "metadata": {},
   "source": [
    "### 3D initial hydrography"
   ]
  },
  {
   "cell_type": "code",
   "execution_count": 24,
   "metadata": {},
   "outputs": [
    {
     "name": "stdout",
     "output_type": "stream",
     "text": [
      "(400, 150, 70)\n"
     ]
    }
   ],
   "source": [
    "# initialize entire domain using northern BCs\n",
    "grid_size = (grid_params['Nx'], grid_params['Ny'], grid_params['Nr'])\n",
    "temp_init = np.ones(grid_size)*temp_north\n",
    "print(temp_init.shape)\n",
    "\n",
    "# add some random noise\n",
    "# EW note: not sure why this necessary\n",
    "temp_noise = 0.1*np.random.rand(*grid_size) \n",
    "temp_init += temp_noise-temp_noise.mean()\n",
    "\n",
    "\n",
    "# save to input file\n",
    "input_fnames['hydrogThetaFile'] = 'hydrogThetaFile.bin'\n",
    "\n",
    "temp_fpath = os.path.join(run_config['input_dir'],  'hydrogThetaFile.bin')\n",
    "with open(temp_fpath, 'wb') as f:\n",
    "    temp_init.T.astype('>f8').tofile(f) #<--- need to transpose to get Fortran order\n",
    "\n",
    "# NOTE: need to repeat these steps when evolving salinity"
   ]
  },
  {
   "cell_type": "code",
   "execution_count": null,
   "metadata": {
    "collapsed": true
   },
   "outputs": [],
   "source": []
  },
  {
   "cell_type": "markdown",
   "metadata": {},
   "source": [
    "### Surface winds and heat fluxes"
   ]
  },
  {
   "cell_type": "code",
   "execution_count": 25,
   "metadata": {
    "collapsed": true
   },
   "outputs": [],
   "source": [
    "# define horizontal grid\n",
    "dx = domain_params['Lx']/grid_params['Nx'] # x-grid res\n",
    "xx = np.arange(grid_params['Nx'] )*dx\n",
    "xx = xx-np.mean(xx) # offset so that x=0 is in the center of the domain\n",
    "  \n",
    "dy = domain_params['Ly']/grid_params['Ny']   # y-grid res\n",
    "yy = np.cumsum(dy*np.ones(grid_params['Ny'] )) - dy/2 \n",
    "\n",
    "XX, YY = np.meshgrid(xx, yy)"
   ]
  },
  {
   "cell_type": "code",
   "execution_count": null,
   "metadata": {
    "collapsed": true
   },
   "outputs": [],
   "source": []
  },
  {
   "cell_type": "code",
   "execution_count": 26,
   "metadata": {
    "collapsed": true
   },
   "outputs": [],
   "source": [
    "# tau_east=0.2\n",
    "# tau_west=0.05\n",
    "# tau0_y=600\n",
    "# Qacc=-10\n",
    "# Qsb=15 #shelf break\n",
    "# Q0_y=1000\n",
    "\n",
    "# Ln = domain_params['L_sponge'] # length of northern sponge layer\n",
    "# Ys = domain_params['SS_slope_Y'] # shelf width \n",
    "# Ly = np.round(domain_params['Ly'])\n",
    "                   \n",
    "# # NOTES: This code uses spline functions to define zonally uniform surface wind stress and heat fluxes.\n",
    "\n",
    "# # zonal wind stress\n",
    "# taux_pts = {}\n",
    "# taux_pts['yy'] = np.array([0, (tau0_y*1e3)/2, tau0_y*1e3, 830e3, 2190e3, Ly-Ln, Ly])\n",
    "# taux_pts['values'] = np.array([-tau_west*0, -tau_west*0.99,   0, tau_east*0.375, tau_east*0.375, 0, 0])\n",
    "\n",
    "# spl = make_interp_spline(taux_pts['yy'], taux_pts['values'], k=3) \n",
    "# taux = spl(yy)\n",
    "# taux[yy>(Ly-Ln)] = 0 # set forcing to zero over sponge layer\n",
    "\n",
    "\n",
    "# # heat flux out of the ocean\n",
    "# qflux_pts = {}\n",
    "# qflux_pts['yy'] = np.array([0, 40e3, 90e3, 380e3, Q0_y*1e3, 1300e3, 2100e3, Ly-Ln, Ly])\n",
    "# qflux_pts['values'] = np.array([0, Qsb*0.2, Qsb*0.53, Qsb*0.91, 0, Qacc*0.61, Qacc*0.61, 0, 0]) \n",
    "\n",
    "# spl = make_interp_spline(qflux_pts['yy'], qflux_pts['values'], k=3)  # type: BSpline\n",
    "# qflux = spl(yy)\n",
    "# qflux[yy>(Ly-Ln)] = 0 # set forcing to zero over sponge layer"
   ]
  },
  {
   "cell_type": "code",
   "execution_count": 27,
   "metadata": {},
   "outputs": [
    {
     "data": {
      "image/png": "[encoded data removed]",
      "text/plain": [
       "<Figure size 864x432 with 2 Axes>"
      ]
     },
     "metadata": {},
     "output_type": "display_data"
    }
   ],
   "source": [
    "# NOTES: This code uses spline functions to define zonally uniform surface wind stress and heat fluxes.\n",
    "\n",
    "Ln = domain_params['L_sponge'] # length of northern sponge layer\n",
    "Ys = domain_params['SS_slope_Y'] # location of shelf break \n",
    "Ly = np.round(domain_params['Ly'])\n",
    "\n",
    "tau_east_max=0.2\n",
    "tau_west_max=0.05\n",
    "Y_tau0=Ly*0.2 # latitude where tau=0\n",
    "\n",
    "# zonal wind stress\n",
    "taux_pts = {}\n",
    "taux_pts['yy'] = np.array([0, Y_tau0/2, Y_tau0, Ly*0.6,  Ly-Ln, Ly])\n",
    "taux_pts['values'] = np.array([-tau_west_max*0, -tau_west_max*0.99, 0, tau_east_max*0.99, 0, 0])\n",
    "\n",
    "spl = make_interp_spline(taux_pts['yy'], taux_pts['values'], k=3) \n",
    "taux = spl(yy)\n",
    "taux[yy>(Ly-Ln)] = 0 # set forcing to zero over sponge layer\n",
    "\n",
    "\n",
    "# plot wind profile\n",
    "\n",
    "fz =12\n",
    "\n",
    "fig, axes = plt.subplots(1, 2, figsize=(12, 6))\n",
    "plt.sca(axes[0])\n",
    "plt.plot(taux, yy/1e3, label='new')\n",
    "plt.plot(taux_pts['values'], taux_pts['yy']/1e3, 'or')\n",
    "plt.axvline(0, linestyle='--', linewidth=2, color='k')\n",
    "plt.axhline(Ys/1e3, linestyle='--', linewidth=2, color='0.5', label='shelf break')\n",
    "plt.xlim(-0.3, 0.3)\n",
    "plt.yticks(np.arange(0, 2500, 250))\n",
    "plt.xlabel(\"Wind stress (N/m$^2$)\", fontsize=fz)\n",
    "plt.ylabel(\"Y (km)\", fontsize=fz)\n",
    "plt.grid(True)\n",
    "plt.ylim(0, Ly/1e3)\n",
    "plt.legend(loc=0, fontsize=fz-2)\n",
    "\n",
    "\n",
    "# compute and winds stress curl\n",
    "dtaux_dy = np.gradient(taux, yy, edge_order=2) \n",
    "\n",
    "plt.sca(axes[1])\n",
    "plt.plot(-dtaux_dy*1e7, yy/1e3, ':', linewidth=2, label='new')\n",
    "plt.xlabel(\"Wind stress curl (N/m$^3$)\", fontsize=fz)\n",
    "plt.ylabel(\"Y (km)\", fontsize=fz)\n",
    "plt.xlim(-6, 6)\n",
    "plt.ylim(0, Ly/1e3)\n",
    "plt.grid(True)\n",
    "plt.axvline(0, linestyle='--', linewidth=2, color='k')\n",
    "plt.axhline(Ys/1e3, linestyle='--', linewidth=2, color='0.5', label='shelf break')\n",
    "plt.legend(loc=0, fontsize=fz-2)\n",
    "plt.subplots_adjust(hspace=0.3)\n",
    "plt.show()"
   ]
  },
  {
   "cell_type": "code",
   "execution_count": null,
   "metadata": {
    "collapsed": true
   },
   "outputs": [],
   "source": []
  },
  {
   "cell_type": "code",
   "execution_count": 28,
   "metadata": {},
   "outputs": [
    {
     "data": {
      "image/png": "[encoded data removed]",
      "text/plain": [
       "<Figure size 576x432 with 1 Axes>"
      ]
     },
     "metadata": {},
     "output_type": "display_data"
    }
   ],
   "source": [
    "#Q is ocean heat loss.\n",
    "\n",
    "Q_min=-10 #W/m2 peak surface warming\n",
    "Q_max=10 #W/m2 peak surface cooling\n",
    "Y_Q0=Ly*0.4 # latitude where Q = 0 W/m2\n",
    "\n",
    "# specify heat flux out of the ocean\n",
    "qflux_pts = {}\n",
    "qflux_pts['yy'] = np.array([0, Ys, Y_Q0, Ly*0.65, Ly-Ln, Ly])\n",
    "qflux_pts['values'] = np.array([0, Q_max*0.99, 0, Q_min*0.99, 0, 0]) \n",
    "\n",
    "spl = make_interp_spline(qflux_pts['yy'], qflux_pts['values'], k=3)  # type: BSpline\n",
    "qflux = spl(yy)\n",
    "\n",
    "qflux[yy>(Ly-Ln)] = 0 # set forcing to zero over sponge layer\n",
    "\n",
    "\n",
    "#----------plot heat flux profile\n",
    "plt.figure(figsize=(8, 6))\n",
    "plt.plot(qflux, yy/1e3, label='new')\n",
    "plt.plot(qflux_pts['values'], qflux_pts['yy']/1e3, 'or')\n",
    "plt.axvline(0, linestyle='--', linewidth=2, color='k')\n",
    "plt.axhline(Ys/1e3, linestyle='--', linewidth=2, color='0.5', label='shelf break')\n",
    "#plt.xlim(-10, 20)\n",
    "plt.xlabel(\"Heat flux out of ocean (W/m$^2$)\", fontsize=fz)\n",
    "plt.grid(True)\n",
    "plt.ylim(0, Ly/1e3)\n",
    "plt.legend(loc=0, fontsize=fz-2)\n",
    "ax1 = plt.gca()\n",
    "plt.show()"
   ]
  },
  {
   "cell_type": "code",
   "execution_count": 29,
   "metadata": {},
   "outputs": [
    {
     "name": "stderr",
     "output_type": "stream",
     "text": [
      "/share/software/user/open/py-jupyter/1.0.0_py36/lib/python3.6/site-packages/ipykernel_launcher.py:17: MatplotlibDeprecationWarning: The 'extend' parameter to Colorbar has no effect because it is overridden by the mappable; it is deprecated since 3.3 and will be removed two minor releases later.\n"
     ]
    },
    {
     "data": {
      "image/png": "[encoded data removed]",
      "text/plain": [
       "<Figure size 864x360 with 2 Axes>"
      ]
     },
     "metadata": {},
     "output_type": "display_data"
    }
   ],
   "source": [
    "# expand to 2D\n",
    "taux_2D = np.tile(taux[np.newaxis, :], (len(xx), 1))\n",
    "qflux_2D = np.tile(qflux[np.newaxis, :], (len(xx), 1))\n",
    "\n",
    "\n",
    "plt.figure(figsize=(12,5))\n",
    "vmin, vmax = -20, 20\n",
    "clvls = np.arange(vmin, vmax+0.1, 1)\n",
    "\n",
    "plt.contourf(XX/1e3, YY/1e3, qflux_2D.T, clvls, vmin=vmin, vmax=vmax, cmap=plt.cm.rainbow, extend='both')\n",
    "plt.axhline(Ys/1e3, linestyle='--', linewidth=1, color='k')\n",
    "plt.xticks(np.arange(-2000, 2001, 500))\n",
    "ax1.tick_params(axis='both', which='major', labelsize=fz)\n",
    "plt.ylabel(\"Y (km)\", fontsize=fz)\n",
    "plt.xlabel(\"X (km)\", fontsize=fz)\n",
    "plt.title(\"Ocean surface heat loss (W/m2)\", fontsize=fz)\n",
    "plt.colorbar(extend='both')\n",
    "\n",
    "\n",
    "\n",
    "#add localized region of intense buoyancy loss\n",
    "#add_local_Qaabw = True # TODO: move this control somewhere else\n",
    "Qaabw_max=150 # max cooling; W/m2\n",
    "aabw_xc = 500e3 # x location of \n",
    "aabw_Lc = 200e3 # width of cooling region\n",
    "\n",
    "# if add_local_Qaabw:\n",
    "qflux_Ys = Qaabw_max #qflux_new_2D[yi.T].max()\n",
    "qflux_abbw = qflux_Ys*np.exp(-((XX.T-aabw_xc)/aabw_Lc)**2 - ((YY.T+5e3)/(Ys))**2)\n",
    "qflux_2D += qflux_abbw\n",
    "cs = plt.contour(XX/1e3, YY/1e3, qflux_abbw.T, np.arange(25, 201, 25), \n",
    "                 colors='k', vmin=vmin, vmax=vmax, extend='both')\n",
    "\n",
    "plt.clabel(cs, cs.levels, inline=True, fontsize=fz-2)\n",
    "\n",
    "xidx = np.argmin(np.abs(aabw_xc-xx))\n",
    "qflux_aabw = qflux_2D[xidx, :]    \n",
    "plt.show()"
   ]
  },
  {
   "cell_type": "code",
   "execution_count": null,
   "metadata": {
    "collapsed": true
   },
   "outputs": [],
   "source": []
  },
  {
   "cell_type": "code",
   "execution_count": 30,
   "metadata": {
    "collapsed": true
   },
   "outputs": [],
   "source": [
    "# NOTE: we could specify a time component to the surface forcing to create a 3D (x, y, t) file."
   ]
  },
  {
   "cell_type": "code",
   "execution_count": 31,
   "metadata": {
    "collapsed": true
   },
   "outputs": [],
   "source": [
    "# save surface forcing\n",
    "input_fnames['zonalWindFile'] = 'zonalWindFile.bin'\n",
    "input_fnames['surfQfile'] = 'surfQFile.bin'\n",
    "\n",
    "taux_fpath = os.path.join(run_config['input_dir'], input_fnames['zonalWindFile'])\n",
    "with open(taux_fpath, 'wb') as f:\n",
    "    taux_2D.T.astype('>f8').tofile(f)\n",
    "\n",
    "qflux_fpath = os.path.join(run_config['input_dir'], input_fnames['surfQfile'])\n",
    "with open(qflux_fpath, 'wb') as f:\n",
    "    qflux_2D.T.astype('>f8').tofile(f)"
   ]
  },
  {
   "cell_type": "code",
   "execution_count": null,
   "metadata": {
    "collapsed": true
   },
   "outputs": [],
   "source": []
  },
  {
   "cell_type": "markdown",
   "metadata": {},
   "source": [
    "## Vertical diffusivity "
   ]
  },
  {
   "cell_type": "code",
   "execution_count": 32,
   "metadata": {
    "collapsed": true
   },
   "outputs": [],
   "source": [
    "#TODO: Check that this is actually used by the model"
   ]
  },
  {
   "cell_type": "code",
   "execution_count": 33,
   "metadata": {
    "collapsed": true
   },
   "outputs": [],
   "source": [
    "diffKr = params01['diffKrT']*np.ones(grid_size)\n",
    "kap_deep = 1e-3 # assume diffusivity is maximum at seafloor (m2/s)\n",
    "H_kap = 300 # e-folding scale for diffusivity\n",
    "#diffKr[ii, jj, :]\n",
    "for ii in range(grid_params['Nx']):\n",
    "    for jj in range(grid_params['Ny']):\n",
    "        diffKrT_profile = np.exp(-(zz-bathy_h[ii,jj])/H_kap)\n",
    "        diffKrT_profile[diffKrT_profile>1] = 1                                   \n",
    "        diffKr[ii, jj, :] = params01['diffKrT'] + diffKrT_profile*kap_deep\n"
   ]
  },
  {
   "cell_type": "code",
   "execution_count": null,
   "metadata": {
    "collapsed": true
   },
   "outputs": [],
   "source": []
  },
  {
   "cell_type": "code",
   "execution_count": 34,
   "metadata": {},
   "outputs": [
    {
     "data": {
      "text/plain": [
       "Text(0, 0.5, 'Depth (m)')"
      ]
     },
     "execution_count": 34,
     "metadata": {},
     "output_type": "execute_result"
    }
   ],
   "source": [
    "plt.figure(figsize=(8, 6))\n",
    "\n",
    "xloc = xx.mean()\n",
    "xidx = np.argmin(np.abs(xx-xloc))\n",
    "ylocs = [yy.mean(), 1500e3]\n",
    "\n",
    "for yloc in ylocs:\n",
    "    \n",
    "    yidx = np.argmin(np.abs(yy-yloc))\n",
    "    \n",
    "    p = plt.semilogx(diffKr[xidx, yidx, :], zz, label=\"x = %s, y = %s\" %(xloc/1e3, yloc/1e3))\n",
    "    \n",
    "    zidx = np.argmin(np.abs(zz-bathy_h[xidx, yidx]))\n",
    "    plt.semilogx(diffKr[xidx, yidx, zidx], zz[zidx], 'o', color= p[0].get_color())\n",
    "    \n",
    "plt.legend()\n",
    "plt.xlabel('Vertical diffusivity (m2/s)')\n",
    "plt.ylabel('Depth (m)')"
   ]
  },
  {
   "cell_type": "code",
   "execution_count": 35,
   "metadata": {
    "collapsed": true
   },
   "outputs": [],
   "source": [
    "# save diffusivity profile\n",
    "input_fnames['diffKrFile'] = 'diffKrFile.bin'\n",
    "\n",
    "diff_fpath = os.path.join(run_config['input_dir'], input_fnames['diffKrFile'])\n",
    "with open(diff_fpath, 'wb') as f:\n",
    "    diffKr.T.astype('>f8').tofile(f) # <--- need to transpose   "
   ]
  },
  {
   "cell_type": "code",
   "execution_count": 36,
   "metadata": {},
   "outputs": [
    {
     "data": {
      "text/plain": [
       "(400, 150, 70)"
      ]
     },
     "execution_count": 36,
     "metadata": {},
     "output_type": "execute_result"
    }
   ],
   "source": [
    "diffKr.shape"
   ]
  },
  {
   "cell_type": "code",
   "execution_count": null,
   "metadata": {
    "collapsed": true
   },
   "outputs": [],
   "source": []
  },
  {
   "cell_type": "markdown",
   "metadata": {},
   "source": [
    "## Check numeric stability"
   ]
  },
  {
   "cell_type": "code",
   "execution_count": 37,
   "metadata": {},
   "outputs": [
    {
     "data": {
      "text/plain": [
       "Text(0.5, 1.0, 'First baroclinic Rossby deformation radius (km)')"
      ]
     },
     "execution_count": 37,
     "metadata": {},
     "output_type": "execute_result"
    }
   ],
   "source": [
    "# compute internal wave speed\n",
    "N = np.sqrt(N2)\n",
    "\n",
    "x0 = 0\n",
    "xidx = np.argmin(np.abs(xx-x0)) #\n",
    "\n",
    "C_ig = np.zeros(len(yy))\n",
    "for jj in range(len(yy)):\n",
    "    for kk in range(len(zz)):\n",
    "        if zz[kk]>bathy_h[xidx, jj]:\n",
    "            C_ig[jj] = C_ig[jj] + N[kk]*dz[kk]\n",
    "        else:\n",
    "            continue\n",
    "            \n",
    "            \n",
    "R_d = C_ig/(np.pi*np.abs(params01['f0']+params01['beta']*yy))\n",
    "#print(R_d) \n",
    "# Note: R_d here not exactly the same as in matlab calculation but it within a few percent.\n",
    "# Tz is computed differently here\n",
    "\n",
    "plt.figure(figsize=(8, 6))\n",
    "plt.plot(yy[1:-1]/1e3, R_d[1:-1]/1e3)\n",
    "plt.axhline(run_config['horiz_res_km'], linestyle='--', label='horizontal grid spacing')\n",
    "plt.legend()\n",
    "plt.title(\"First baroclinic Rossby deformation radius (km)\")"
   ]
  },
  {
   "cell_type": "code",
   "execution_count": null,
   "metadata": {
    "collapsed": true
   },
   "outputs": [],
   "source": []
  },
  {
   "cell_type": "code",
   "execution_count": 38,
   "metadata": {},
   "outputs": [
    {
     "name": "stdout",
     "output_type": "stream",
     "text": [
      "Minimum time step required: 694.29 seconds\n"
     ]
    },
    {
     "name": "stderr",
     "output_type": "stream",
     "text": [
      "/share/software/user/open/py-jupyter/1.0.0_py36/lib/python3.6/site-packages/ipykernel_launcher.py:36: RuntimeWarning: divide by zero encountered in double_scalars\n",
      "/share/software/user/open/py-jupyter/1.0.0_py36/lib/python3.6/site-packages/ipykernel_launcher.py:40: RuntimeWarning: divide by zero encountered in double_scalars\n"
     ]
    }
   ],
   "source": [
    "# Upper bound for absolute horizontal fluid velocity (m/s)\n",
    "Umax = 1.0 # Andrew's estimate\n",
    "\n",
    "# Max gravity wave speed \n",
    "cmax = np.max(C_ig)\n",
    "\n",
    "# Max gravity wave speed using total ocean depth\n",
    "cgmax = Umax + cmax\n",
    "\n",
    "# Advective CFL\n",
    "deltaT_adv = np.min([0.5*dx/cmax,0.5*dy/cmax])\n",
    "\n",
    "# Gravity wave CFL\n",
    "deltaT_gw = np.min([0.5*dx/Umax,0.5*dy/Umax])\n",
    "\n",
    "# CFL time step based on full gravity wave speed\n",
    "deltaT_fgw = np.min([0.5*dx/cgmax,0.5*dy/cgmax])\n",
    "\n",
    "deltaT_list = [deltaT_adv, deltaT_gw, deltaT_fgw]\n",
    "\n",
    "#---Other stability conditions\n",
    "\n",
    "# Inertial CFL time step (Sf0<=0.5)\n",
    "deltaT_itl = 0.5/np.abs(params01['f0'])\n",
    "deltaT_list.append(deltaT_itl)\n",
    "\n",
    "# Time step constraint based on horizontal diffusion \n",
    "deltaT_Ah = 0.5*np.min([dx, dy])**2/(4*params01['viscAh'])  \n",
    "deltaT_list.append(deltaT_Ah)\n",
    "\n",
    "# Time step constraint based on vertical diffusion\n",
    "deltaT_Ar = 0.5*np.min(dz)**2 / (4*params01['viscAr']) \n",
    "deltaT_list.append(deltaT_Ar)\n",
    "\n",
    "# Time step constraint based on biharmonic viscosity \n",
    "deltaT_A4 = 0.5*np.min([dx,dy])**4/(32*params01['viscA4'])\n",
    "deltaT_list.append(deltaT_A4)\n",
    "\n",
    "# Time step constraint based on horizontal diffusion of temp \n",
    "deltaT_KhT = 0.4*np.min([dx,dy])**2/(4*params01['diffKhT'])\n",
    "deltaT_list.append(deltaT_KhT)\n",
    "\n",
    "# Time step constraint based on vertical diffusion of temp \n",
    "deltaT_KrT = 0.4*np.min(dz)**2 / (4*params01['diffKrT'] )\n",
    "deltaT_list.append(deltaT_KrT)\n",
    "\n",
    "\n",
    "deltaT = np.min(deltaT_list)\n",
    "print(\"Minimum time step required: %.2f seconds\" %deltaT)\n",
    "\n",
    "deltaT = np.round(deltaT)"
   ]
  },
  {
   "cell_type": "markdown",
   "metadata": {},
   "source": [
    "## Numeric solvers and I/O controls"
   ]
  },
  {
   "cell_type": "code",
   "execution_count": 39,
   "metadata": {
    "collapsed": true
   },
   "outputs": [],
   "source": [
    "# numeric solver parameters \n",
    "\n",
    "params02 = {}\n",
    "params02['useSRCGSolver'] = True\n",
    "params02['cg2dMaxIters'] = 1000\n",
    "params02['cg2dTargetResidual'] = 1e-12\n",
    "\n",
    "# time stepping parameters \n",
    "params03 = {}\n",
    "# params03['useSRCGSolver'] = True\n",
    "# params03['cg2dMaxIters'] = 1000\n",
    "# params03['cg2dTargetResidual'] = 1e-12\n",
    "params03['alph_AB'] = 1/2\n",
    "params03['beta_AB'] = 5/12\n",
    "params03['nIter0'] = 0 #<<-something that could be updated\n",
    "params03['abEps'] = 0.1\n",
    "\n",
    "#if run_config['testing']:\n",
    "    \n",
    "params03['chkptFreq'] = 0.25*secsInYear\n",
    "params03['pChkptFreq'] = 5.0*secsInYear #\n",
    "params03['taveFreq'] = 0.0\n",
    "params03['dumpFreq'] = 10.0*secsInYear\n",
    "params03['monitorFreq'] = 1.0*secsInYear\n",
    "\n",
    "\n",
    "params03['dumpInitAndLast'] = True\n",
    "params03['pickupStrictlyMatch'] = False\n",
    "\n",
    "if run_config['periodic_forcing']:\n",
    "    # under-construction. There are few more things we need to do here.\n",
    "    raise ValueError\n",
    "    \n",
    "#     params03['periodicExternalForcing'] = periodicExternalForcing\n",
    "#     params03['externForcingPeriod'] = externForcingPeriod\n",
    "#     params03['externForcingCycle'] = externForcingCycle\n",
    "    "
   ]
  },
  {
   "cell_type": "code",
   "execution_count": 40,
   "metadata": {
    "collapsed": true
   },
   "outputs": [],
   "source": [
    "if run_config['test']:\n",
    "    nTimeSteps = 5\n",
    "else:\n",
    "    nTimeSteps = np.ceil(run_config['nyrs']*secsInYear/deltaT)\n",
    "\n",
    "simTimeAct = nTimeSteps*deltaT\n",
    "\n",
    "params03['endTime'] = int(params03['nIter0']*deltaT+simTimeAct)\n",
    "params03['deltaT'] = np.round(deltaT)"
   ]
  },
  {
   "cell_type": "code",
   "execution_count": 41,
   "metadata": {
    "collapsed": true
   },
   "outputs": [],
   "source": [
    "grid_params['Nt'] = nTimeSteps"
   ]
  },
  {
   "cell_type": "code",
   "execution_count": 42,
   "metadata": {},
   "outputs": [
    {
     "data": {
      "text/plain": [
       "189216324"
      ]
     },
     "execution_count": 42,
     "metadata": {},
     "output_type": "execute_result"
    }
   ],
   "source": [
    "params03['endTime']"
   ]
  },
  {
   "cell_type": "markdown",
   "metadata": {},
   "source": [
    "## Create 'data' files"
   ]
  },
  {
   "cell_type": "code",
   "execution_count": 43,
   "metadata": {
    "collapsed": true
   },
   "outputs": [],
   "source": [
    "# NOTE: These steps generate the data text files located int the input directory"
   ]
  },
  {
   "cell_type": "code",
   "execution_count": 44,
   "metadata": {
    "collapsed": true
   },
   "outputs": [],
   "source": [
    "# gather params for data file \n",
    "params04 = {} #<-- using params04 to be consistent with ordering in Andrew's code\n",
    "params04['usingCartesianGrid'] = grid_params['usingCartesianGrid']\n",
    "params04['usingSphericalPolarGrid'] = grid_params['usingSphericalPolarGrid']\n",
    "params04['delX']  = grid_params['delX']\n",
    "params04['delY'] = grid_params['delY']\n",
    "params04['delR'] = dz"
   ]
  },
  {
   "cell_type": "code",
   "execution_count": 45,
   "metadata": {
    "collapsed": true
   },
   "outputs": [],
   "source": [
    "# get data fnames param\n",
    "params05 = {}\n",
    "for key in input_fnames:\n",
    "    if key.startswith('relax'):\n",
    "        continue\n",
    "    params05[key] = input_fnames[key]"
   ]
  },
  {
   "cell_type": "code",
   "execution_count": 46,
   "metadata": {
    "collapsed": true
   },
   "outputs": [],
   "source": [
    "data_params = [params01, params02, params03, params04, params05]\n",
    "rcf.write_data(run_config, data_params, group_name='data', lf=run_config['lf'])"
   ]
  },
  {
   "cell_type": "code",
   "execution_count": null,
   "metadata": {
    "collapsed": true
   },
   "outputs": [],
   "source": []
  },
  {
   "cell_type": "markdown",
   "metadata": {},
   "source": [
    "## Specifiy relaxation of temperature and salinity "
   ]
  },
  {
   "cell_type": "code",
   "execution_count": 47,
   "metadata": {
    "collapsed": true
   },
   "outputs": [],
   "source": [
    "# define some paramters\n",
    "\n",
    "useRBCtemp = True\n",
    "useRBCsalt = False # modify if evolving salinity\n",
    "useRBCuVel = False\n",
    "useRBCvVel = False\n",
    "tauRelaxT = 7.0*secsInDay\n",
    "tauRelaxS = 1.0*secsInDay # modify if evolving salinity\n",
    "tauRelaxU = 1.0*secsInDay\n",
    "tauRelaxV = 1.0*secsInDay\n",
    "\n",
    "rbcs_params01 = {}\n",
    "rbcs_params01['useRBCtemp'] = useRBCtemp\n",
    "rbcs_params01['useRBCsalt'] = useRBCsalt\n",
    "rbcs_params01['useRBCuVel'] = useRBCuVel\n",
    "rbcs_params01['useRBCvVel'] = useRBCvVel\n",
    "rbcs_params01['tauRelaxT'] = tauRelaxT\n",
    "rbcs_params01['tauRelaxS'] = tauRelaxS\n",
    "rbcs_params01['tauRelaxU'] = tauRelaxU\n",
    "rbcs_params01['tauRelaxV'] = tauRelaxV\n",
    "\n",
    "rbcs_params02 = {}"
   ]
  },
  {
   "cell_type": "code",
   "execution_count": null,
   "metadata": {
    "collapsed": true
   },
   "outputs": [],
   "source": []
  },
  {
   "cell_type": "code",
   "execution_count": 48,
   "metadata": {},
   "outputs": [
    {
     "name": "stdout",
     "output_type": "stream",
     "text": [
      "[0.05 0.15 0.25 0.35 0.45 0.55 0.65 0.75 0.85 0.95]\n"
     ]
    }
   ],
   "source": [
    "# set relaxation temp\n",
    "temp_relax = temp_north*np.ones(grid_size)\n",
    "\n",
    "# set relaxation mask\n",
    "northRelaxFac = 1\n",
    "sponge_Y_min = domain_params['Ly'] - domain_params['L_sponge']\n",
    "sponge_yi = yy>=sponge_Y_min\n",
    "\n",
    "msk_vals = (1/northRelaxFac)*(yy[sponge_yi]-sponge_Y_min)/domain_params['L_sponge']\n",
    "# note: this formulation does not guarantee that the relaxation is exactly one at the northern boundary\n",
    "print(msk_vals)\n",
    "\n",
    "\n",
    "msk = np.zeros(grid_size)\n",
    "msk[:, sponge_yi, :] = msk_vals[np.newaxis, :, np.newaxis]"
   ]
  },
  {
   "cell_type": "code",
   "execution_count": 49,
   "metadata": {
    "collapsed": true
   },
   "outputs": [],
   "source": [
    "# save relaxation (i.e. sponge layer) files\n",
    "input_fnames['relaxTFile'] = 'sponge_temp.bin'\n",
    "input_fnames['relaxMaskFile(1)'] = 'rbcs_temp_mask.bin'\n",
    "\n",
    "fpath = os.path.join(run_config['input_dir'], input_fnames['relaxTFile'])\n",
    "with open(fpath, 'wb') as f:\n",
    "    temp_relax.astype('>f8').T.tofile(f) # <--- may need to transpose   \n",
    "    \n",
    "fpath = os.path.join(run_config['input_dir'], input_fnames['relaxMaskFile(1)'])\n",
    "with open(fpath, 'wb') as f:\n",
    "    np.asfortranarray(msk).astype('>f8').T.tofile(f) # <--- may need to transpose   "
   ]
  },
  {
   "cell_type": "code",
   "execution_count": 50,
   "metadata": {
    "collapsed": true
   },
   "outputs": [],
   "source": [
    "rbcs_params01['relaxTFile'] = input_fnames['relaxTFile']\n",
    "rbcs_params01['relaxMaskFile(1)'] = input_fnames['relaxMaskFile(1)']"
   ]
  },
  {
   "cell_type": "code",
   "execution_count": 51,
   "metadata": {
    "collapsed": true
   },
   "outputs": [],
   "source": [
    "data_rbcs_params = [rbcs_params01, rbcs_params02]\n",
    "rcf.write_data(run_config, data_rbcs_params, group_name='rbcs')"
   ]
  },
  {
   "cell_type": "code",
   "execution_count": null,
   "metadata": {
    "collapsed": true
   },
   "outputs": [],
   "source": []
  },
  {
   "cell_type": "markdown",
   "metadata": {},
   "source": [
    "## Set boundary conditions"
   ]
  },
  {
   "cell_type": "code",
   "execution_count": 52,
   "metadata": {
    "collapsed": true
   },
   "outputs": [],
   "source": [
    "# NOTE: This is mostly copied verbatim from Andrew's code. I haven't experiment too much with this."
   ]
  },
  {
   "cell_type": "code",
   "execution_count": 53,
   "metadata": {
    "collapsed": true
   },
   "outputs": [],
   "source": [
    "obcs_params01 = {}\n",
    "\n",
    "# Enables an Orlanski radiation condition at the northern boundary\n",
    "useOrlanskiNorth = True\n",
    "OB_Jnorth = grid_params['Ny']*np.ones((grid_params['Nx'])).astype(int)\n",
    "\n",
    "obcs_params01['useOrlanskiNorth'] = useOrlanskiNorth\n",
    "obcs_params01['OB_Jnorth'] = OB_Jnorth\n",
    "\n",
    "# Enforces mass conservation across the northern boundary by adding a\n",
    "# barotropic inflow/outflow\n",
    "obcs_params01['useOBCSbalance'] = True\n",
    "obcs_params01['OBCS_balanceFacN'] = -1.0\n",
    "obcs_params01['OBCS_balanceFacE'] = 0.0\n",
    "obcs_params01['OBCS_balanceFacS'] = 0.0\n",
    "obcs_params01['OBCS_balanceFacW'] = 0.0"
   ]
  },
  {
   "cell_type": "code",
   "execution_count": null,
   "metadata": {
    "collapsed": true
   },
   "outputs": [],
   "source": []
  },
  {
   "cell_type": "code",
   "execution_count": 54,
   "metadata": {
    "collapsed": true
   },
   "outputs": [],
   "source": [
    "### Velocity averaging time scale - must be larger than deltaT.\n",
    "### The Orlanski radiation condition computes the characteristic velocity\n",
    "### at the boundary by averaging the spatial derivative normal to the \n",
    "### boundary divided by the time step over this period.\n",
    "### At the moment we're using the magic engineering factor of 3.\n",
    "cvelTimeScale = 3*deltaT\n",
    "#Max dimensionless CFL for Adams-Basthforth 2nd-order method\n",
    "CMAX = 0.45\n",
    "\n",
    "obcs_params02 = {}\n",
    "obcs_params02['cvelTimeScale'] = cvelTimeScale\n",
    "obcs_params02['CMAX'] = CMAX"
   ]
  },
  {
   "cell_type": "code",
   "execution_count": 55,
   "metadata": {
    "collapsed": true
   },
   "outputs": [],
   "source": [
    "obcs_params = [obcs_params01, obcs_params02]\n",
    "rcf.write_data(run_config, obcs_params, group_name='obcs')"
   ]
  },
  {
   "cell_type": "code",
   "execution_count": null,
   "metadata": {
    "collapsed": true
   },
   "outputs": [],
   "source": []
  },
  {
   "cell_type": "markdown",
   "metadata": {},
   "source": [
    "## Set layers package"
   ]
  },
  {
   "cell_type": "code",
   "execution_count": 56,
   "metadata": {
    "collapsed": true
   },
   "outputs": [],
   "source": [
    "# NOTE: the layers package is useful for computing the overturning streamfunction"
   ]
  },
  {
   "cell_type": "code",
   "execution_count": 57,
   "metadata": {
    "collapsed": true
   },
   "outputs": [],
   "source": [
    "layers_params01 = {}\n",
    "\n",
    "### Number of fields for which to calculate layer fluxes\n",
    "layers_maxNum = 1\n",
    "\n",
    "### Specify potential temperature\n",
    "layers_name = 'TH'\n",
    "\n",
    "### Potential temperature bounds for layers  \n",
    "layers_bounds = np.hstack([np.arange(-1, 1, 0.05), np.arange(1, 3, 0.2), np.arange(3, 7.2, 0.3),\n",
    "                           np.arange(7.4, 9, 0.2), np.arange(9, 12.001, 0.1)])\n",
    "# layers_bounds = np.hstack([np.arange(-1, 1, 0.05), np.arange(1, 3, 0.1), np.arange(3, 9, 0.25),\n",
    "#                            np.arange(9, 12.001, 0.5)])\n",
    "                           \n",
    "### Reference level for calculation of potential density\n",
    "layers_krho = 1    \n",
    "\n",
    "### If set true, the GM bolus velocity is added to the calculation\n",
    "if run_config['use_GMRedi']:\n",
    "    layers_bolus = True\n",
    "else:\n",
    "    layers_bolus = False\n",
    "\n",
    "### Layers\n",
    "layers_params01['layers_bounds'] = layers_bounds\n",
    "layers_params01['layers_krho'] = layers_krho\n",
    "layers_params01['layers_name'] = layers_name\n",
    "layers_params01['layers_bolus'] = layers_bolus"
   ]
  },
  {
   "cell_type": "code",
   "execution_count": 58,
   "metadata": {
    "collapsed": true
   },
   "outputs": [],
   "source": [
    "layers_params = [layers_params01]\n",
    "rcf.write_data(run_config, layers_params, group_name='layers')"
   ]
  },
  {
   "cell_type": "code",
   "execution_count": 59,
   "metadata": {
    "collapsed": true
   },
   "outputs": [],
   "source": [
    "# create createLAYERSSIZEh\n",
    "Nlayers = len(layers_params01['layers_bounds'])-1\n",
    "rcf.createLAYERSSIZEh(run_config, Nlayers)"
   ]
  },
  {
   "cell_type": "code",
   "execution_count": null,
   "metadata": {
    "collapsed": true
   },
   "outputs": [],
   "source": []
  },
  {
   "cell_type": "markdown",
   "metadata": {},
   "source": [
    "## Specify GM Redi"
   ]
  },
  {
   "cell_type": "code",
   "execution_count": 60,
   "metadata": {
    "collapsed": true
   },
   "outputs": [],
   "source": [
    "# NOTE: run_config['use_GMRedi']=False, the model will ignore all of this\n",
    "\n",
    "gmredi_params01 = {}\n",
    "gmredi_params01['GM_isopycK'] = 1000.0\n",
    "gmredi_params01['GM_background_K'] = 1000.0\n",
    "gmredi_params01['GM_maxSlope'] = 0.025\n",
    "gmredi_params01['GM_taper_scheme'] = 'dm95'\n",
    "gmredi_params01['GM_Scrit'] = 0.025\n",
    "gmredi_params01['GM_Sd'] = 0.0025\n"
   ]
  },
  {
   "cell_type": "code",
   "execution_count": 61,
   "metadata": {
    "collapsed": true
   },
   "outputs": [],
   "source": [
    "gmredi_params = [gmredi_params01]\n",
    "rcf.write_data(run_config, gmredi_params, group_name='gmredi')"
   ]
  },
  {
   "cell_type": "code",
   "execution_count": 62,
   "metadata": {
    "collapsed": true
   },
   "outputs": [],
   "source": [
    "#debug"
   ]
  },
  {
   "cell_type": "markdown",
   "metadata": {},
   "source": [
    "## Specify Diagnostics"
   ]
  },
  {
   "cell_type": "code",
   "execution_count": 63,
   "metadata": {},
   "outputs": [
    {
     "name": "stdout",
     "output_type": "stream",
     "text": [
      "{'diag_mnc': False, 'fields(1,1)': 'UVEL', 'fileName(1)': 'UVEL', 'frequency(1)': 157680000, 'timePhase(1)': 0.0, 'fields(1,2)': 'VVEL', 'fileName(2)': 'VVEL', 'frequency(2)': 157680000, 'timePhase(2)': 0.0, 'fields(1,3)': 'WVEL', 'fileName(3)': 'WVEL', 'frequency(3)': 157680000, 'timePhase(3)': 0.0, 'fields(1,4)': 'UVELTH', 'fileName(4)': 'UVELTH', 'frequency(4)': 157680000, 'timePhase(4)': 0.0, 'fields(1,5)': 'VVELTH', 'fileName(5)': 'VVELTH', 'frequency(5)': 157680000, 'timePhase(5)': 0.0, 'fields(1,6)': 'WVELTH', 'fileName(6)': 'WVELTH', 'frequency(6)': 157680000, 'timePhase(6)': 0.0, 'fields(1,7)': 'THETA', 'fileName(7)': 'THETA', 'frequency(7)': 157680000, 'timePhase(7)': 0.0, 'fields(1,8)': 'UVEL', 'fileName(8)': 'UVEL_inst', 'frequency(8)': -31536000, 'timePhase(8)': 0.0, 'fields(1,9)': 'VVEL', 'fileName(9)': 'VVEL_inst', 'frequency(9)': -31536000, 'timePhase(9)': 0.0, 'fields(1,10)': 'THETA', 'fileName(10)': 'THETA_inst', 'frequency(10)': -31536000, 'timePhase(10)': 0.0}\n"
     ]
    }
   ],
   "source": [
    "# Here we specify variables that should saved (i.e., written to disk) at various time intervals\n",
    "\n",
    "# adjust output frequency\n",
    "if run_config['test']:\n",
    "    run_config['inst_freq'] = 1 # multiples of timestep\n",
    "    run_config['tavg_freq'] = 5 # multiples of timestep\n",
    "    \n",
    "else:\n",
    "    run_config['inst_freq'] = 1 # multiples of year\n",
    "    run_config['tavg_freq'] = 5 # multiples of year\n",
    "\n",
    "\n",
    "#---------specify time averaged fields------#\n",
    "# NOTE: many more options available see mitgcm docs\n",
    "diag_fields_avg = ['UVEL', 'VVEL', 'WVEL','UVELTH', 'VVELTH','WVELTH','THETA']\n",
    "\n",
    "# diag_fields_avg = ['UVEL', 'VVEL', 'WVEL', 'UVELSQ', 'VVELSQ', 'WVELSQ',\n",
    "#                   'UVELTH', 'VVELTH', 'WVELTH', 'THETA', 'THETASQ',\n",
    "#                   'PHIHYD', 'LaUH1TH', 'LaVH1TH', 'LaHw1TH','LaHs1TH']\n",
    "\n",
    "numdiags_avg = len(diag_fields_avg)\n",
    "diag_phase_avg = 0.0\n",
    "\n",
    "if run_config['test'] == True:\n",
    "    diag_freq_inst = -run_config['inst_freq']*deltaT # negative values indicate snapshots at given interval\n",
    "    diag_freq_avg = run_config['tavg_freq']*deltaT # positive values indicate time average over specified interval\n",
    "else:\n",
    "    diag_freq_inst = -run_config['inst_freq']*secsInYear \n",
    "    diag_freq_avg = run_config['tavg_freq']*secsInYear\n",
    "    \n",
    "    \n",
    "diag_params01 = {}\n",
    "diag_params01['diag_mnc'] = False #<---you would need to modify this if you want netcdf output\n",
    "\n",
    "for ii in range(numdiags_avg):  \n",
    "    n = ii+1\n",
    "    diag_params01['fields(1,%s)'%n] = diag_fields_avg[ii]\n",
    "    diag_params01['fileName(%s)'%n] = diag_fields_avg[ii]\n",
    "    diag_params01['frequency(%s)'%n] = diag_freq_avg\n",
    "    diag_params01['timePhase(%s)'%n] = diag_phase_avg\n",
    "\n",
    "    \n",
    "#--------specify instanteous fields (i.e. snapshots)--------#\n",
    "diag_fields_inst = ['UVEL', 'VVEL', 'THETA']\n",
    "numdiags_inst = len(diag_fields_inst)\n",
    "diag_phase_inst = 0.0\n",
    "\n",
    "for ii in range(numdiags_inst):\n",
    "    n = numdiags_avg+ii+1\n",
    "    diag_params01['fields(1,%s)'%n] = diag_fields_inst[ii]\n",
    "    diag_params01['fileName(%s)'%n] = diag_fields_inst[ii] + '_inst'\n",
    "    diag_params01['frequency(%s)'%n] = diag_freq_inst\n",
    "    diag_params01['timePhase(%s)'%n] = diag_phase_inst\n",
    "    \n",
    "print(diag_params01)\n",
    "Ndiags = n"
   ]
  },
  {
   "cell_type": "code",
   "execution_count": null,
   "metadata": {
    "collapsed": true
   },
   "outputs": [],
   "source": []
  },
  {
   "cell_type": "code",
   "execution_count": 64,
   "metadata": {
    "collapsed": true
   },
   "outputs": [],
   "source": [
    "diag_params02={}\n",
    "diag_params = [diag_params01, diag_params02]\n",
    "rcf.write_data(run_config, diag_params, group_name='diagnostics')"
   ]
  },
  {
   "cell_type": "code",
   "execution_count": null,
   "metadata": {
    "collapsed": true
   },
   "outputs": [],
   "source": []
  },
  {
   "cell_type": "code",
   "execution_count": 65,
   "metadata": {
    "collapsed": true
   },
   "outputs": [],
   "source": [
    "## create DIAGNOSTICS_SIZE.h\n",
    "Nlevels = np.max([grid_params['Nr'], Nlayers])\n",
    "rcf.createDIAGSIZEh(run_config, Ndiags, Nlevels)"
   ]
  },
  {
   "cell_type": "code",
   "execution_count": null,
   "metadata": {
    "collapsed": true
   },
   "outputs": [],
   "source": []
  },
  {
   "cell_type": "markdown",
   "metadata": {},
   "source": [
    "## Generate eedata and SIZEh files"
   ]
  },
  {
   "cell_type": "code",
   "execution_count": 66,
   "metadata": {
    "collapsed": true
   },
   "outputs": [],
   "source": [
    "# create eedata\n",
    "rcf.create_eedata(run_config, grid_params['nTx'], grid_params['nTy'])"
   ]
  },
  {
   "cell_type": "code",
   "execution_count": 67,
   "metadata": {
    "collapsed": true
   },
   "outputs": [],
   "source": [
    "# generate size.h file\n",
    "rcf.createSIZEh(run_config, grid_params)"
   ]
  },
  {
   "cell_type": "code",
   "execution_count": null,
   "metadata": {
    "collapsed": true
   },
   "outputs": [],
   "source": []
  },
  {
   "cell_type": "markdown",
   "metadata": {},
   "source": [
    "## update GMRedi package "
   ]
  },
  {
   "cell_type": "markdown",
   "metadata": {},
   "source": [
    "if necessary..."
   ]
  },
  {
   "cell_type": "code",
   "execution_count": 68,
   "metadata": {
    "collapsed": true
   },
   "outputs": [],
   "source": [
    "if run_config['use_GMRedi']:\n",
    "            \n",
    "        \n",
    "    new_data_pkg = ['# Packages\\n', ' &PACKAGES\\n', ' useDiagnostics=.TRUE.,\\n',\n",
    "                    ' useRBCS=.TRUE.,\\n', ' useOBCS=.FALSE.,\\n', ' useKPP=.TRUE.,\\n',\n",
    "                    ' useLayers=.TRUE.,\\n', ' useBBL=.FALSE.,\\n', ' useGMREDI=.TRUE.,\\n',\n",
    "                    ' /']\n",
    "\n",
    "    new_package_config = ['gfd\\n', 'diagnostics\\n', 'timeave\\n', 'rbcs\\n',\n",
    "                          'kpp\\n', 'layers\\n', 'gmredi']\n",
    "    # back up old files\n",
    "    input_fpath = os.path.join(run_config['run_dir'], 'code')\n",
    "    src_fpath1 = os.path.join(input_fpath, 'data.pkg')\n",
    "    shutil.copy2(src_fpath, src_fpath+'.old')\n",
    "    \n",
    "    src_fpath2 = os.path.join(code_fpath, 'packages.conf')\n",
    "    shutil.copy2(src_fpath, src_fpath+'.old')\n",
    "    \n",
    "    # save new files\n",
    "    with open(src_fpath1, 'w') as f:\n",
    "        text = \"\".join(new_data_pkg)\n",
    "        f.writelines(text)\n",
    "        \n",
    "    with open(src_fpath2, 'w') as f:\n",
    "        text = \"\".join(new_package_config)\n",
    "        f.writelines(text)   "
   ]
  },
  {
   "cell_type": "code",
   "execution_count": null,
   "metadata": {
    "collapsed": true
   },
   "outputs": [],
   "source": []
  },
  {
   "cell_type": "markdown",
   "metadata": {},
   "source": [
    "## Estimate wall clock time"
   ]
  },
  {
   "cell_type": "code",
   "execution_count": 69,
   "metadata": {},
   "outputs": [
    {
     "name": "stdout",
     "output_type": "stream",
     "text": [
      "Estimate completion time: 8.00 hrs\n",
      "Estimate completion time: 480.00 mins\n"
     ]
    }
   ],
   "source": [
    "# Computation time (in hours) per gridpoint (in space and time) assigned to each processor.\n",
    "# NOTE: each processor works on a tile not the entire grid\n",
    "#alpha = 4.59e-10 #tested on the Sherlock for 250 cpus (needs to reevaluated on new machines)\n",
    "\n",
    "\n",
    "### ---Notes from Andrew S.----#\n",
    "### Estimated total computation time in hours (assumes one tile per nTimeSteps\n",
    "### processor). \n",
    "\n",
    "### This tends to overestimate the computation time when OLx is\n",
    "### comparable to sNx or OLy is comparable to sNy.\n",
    "# comptime = alpha*(sNx+2*OLx)*(sNy+2*OLy)*Nr*Nt  \n",
    "\n",
    "### This seems to provide a decent estimate when OLx is\n",
    "### comparable to sNx or OLy is comparable to sNy; 'ghost' gridpoints\n",
    "### require perhaps half as much processing as 'real' gridpoints.\n",
    "\n",
    "\n",
    "# comptime_hrs = alpha*((grid_params['sNx']+grid_params['OLx'])*\n",
    "#                   (grid_params['sNy']+grid_params['OLy'])*grid_params['Nr']*grid_params['Nt'])\n",
    "\n",
    "wall_mins_per_sim_yr = 80 #\n",
    "\n",
    "sim_yrs = nTimeSteps*deltaT/secsInYear\n",
    "\n",
    "comptime_hrs = sim_yrs*wall_mins_per_sim_yr/60\n",
    "  \n",
    "print(\"Estimate completion time: %.2f hrs\" %comptime_hrs)\n",
    "print(\"Estimate completion time: %.2f mins\" %(comptime_hrs*60))"
   ]
  },
  {
   "cell_type": "code",
   "execution_count": null,
   "metadata": {
    "collapsed": true
   },
   "outputs": [],
   "source": []
  },
  {
   "cell_type": "markdown",
   "metadata": {},
   "source": [
    "## Cluster configuraton"
   ]
  },
  {
   "cell_type": "code",
   "execution_count": 70,
   "metadata": {
    "collapsed": true
   },
   "outputs": [],
   "source": [
    "# Sherlock (Stanford)\n",
    "\n",
    "\n",
    "cluster_params = {}\n",
    "cluster_params['cluster_name'] = 'sherlock'\n",
    "cluster_params['opt_file'] = 'darwin_amd64_gfortran_v2' #<-- may need to update this at some point\n",
    "cluster_params['open_mpi_ver'] = '4.0.3' #'4.0.3' 4.1.2'\n",
    "cluster_params['mpi_inc_dir'] = '/share/software/user/open/openmpi/%s/include' %cluster_params['open_mpi_ver'] \n",
    "cluster_params['netcdf_dir'] = '/share/software/user/open/netcdf/4.4.1.1'\n",
    "cluster_params['use_mpi'] = True\n",
    "cluster_params['use_pbs'] = True\n",
    "\n",
    "cluster_params['username'] = SUNet_ID\n",
    "cluster_params['email'] = email\n",
    "cluster_params['login_rootname'] = 'login.sherlock.stanford.edu'\n",
    "cluster_params['mitgcm_code_dir'] = MITgcm_code_dir\n",
    "cluster_params['exps_dir'] = run_config['run_dir']\n",
    "cluster_params['tools_dir'] = os.path.join(cluster_params['mitgcm_code_dir'], 'tools')\n",
    "cluster_params['run_dir'] = os.path.join(cluster_params['exps_dir'], run_config['run_name'])\n",
    "cluster_params['cpus_per_node'] = 20 # if"
   ]
  },
  {
   "cell_type": "code",
   "execution_count": 71,
   "metadata": {},
   "outputs": [
    {
     "data": {
      "text/plain": [
       "'/scratch/groups/earlew/ejdawson/research/modeling/MITgcm_PG/experiments/shelf_channel_500_250_10km'"
      ]
     },
     "execution_count": 71,
     "metadata": {},
     "output_type": "execute_result"
    }
   ],
   "source": [
    "run_config['run_dir']"
   ]
  },
  {
   "cell_type": "code",
   "execution_count": null,
   "metadata": {
    "collapsed": true
   },
   "outputs": [],
   "source": []
  },
  {
   "cell_type": "markdown",
   "metadata": {},
   "source": [
    "## Generate shell scripts to run model"
   ]
  },
  {
   "cell_type": "markdown",
   "metadata": {},
   "source": [
    "### Create shell script for building mitgcm"
   ]
  },
  {
   "cell_type": "code",
   "execution_count": 72,
   "metadata": {},
   "outputs": [
    {
     "name": "stdout",
     "output_type": "stream",
     "text": [
      "rm my_opt_file\n",
      "module load openmpi/4.0.3\n",
      "export MITGCMROOT=\"/home/groups/earlew/shared/mitgcm_releases/MITgcm-checkpoint67g\"\n",
      "export MPI_INC_DIR=/share/software/user/open/openmpi/4.0.3/include\n",
      "ln -s /home/groups/earlew/shared/build_options/darwin_amd64_gfortran_v2 my_opt_file \n",
      "/home/groups/earlew/shared/mitgcm_releases/MITgcm-checkpoint67g/tools/genmake2 -mpi  -rootdir=$MITGCMROOT -mods=../code -of=my_opt_file\n",
      "make depend\n",
      "make --always-make -j 2\n",
      "\n"
     ]
    }
   ],
   "source": [
    "if run_config['use_MPI']:\n",
    "    mpi_str = '-mpi '\n",
    "else:\n",
    "    mpi_str = ''\n",
    "    \n",
    "    \n",
    "#opt_fpath = os.path.join(cluster_params['tools_dir'], 'build_options/', cluster_params['opt_file'])\n",
    "opt_fpath = os.path.join(group_home_dir, 'shared/build_options', cluster_params['opt_file'])\n",
    "    \n",
    "gen2make_fpath = os.path.join(cluster_params['tools_dir'], 'genmake2')\n",
    "\n",
    "\n",
    "buildcommands = ['rm my_opt_file\\n', 'module load openmpi/%s\\n'%cluster_params['open_mpi_ver'] , \n",
    "                 'export MITGCMROOT=\"%s\"\\n'%cluster_params['mitgcm_code_dir'],\n",
    "                 'export MPI_INC_DIR=%s\\n'%cluster_params['mpi_inc_dir'],\n",
    "                 'ln -s %s my_opt_file \\n'%opt_fpath,\n",
    "                 '%s %s -rootdir=$MITGCMROOT -mods=../code -of=my_opt_file\\n'%(gen2make_fpath, mpi_str),\n",
    "                 'make depend\\n','make --always-make -j 2\\n']\n",
    "\n",
    "\n",
    "#print(\"\".join(buildcommands))\n",
    "build_fpath = os.path.join(run_config['run_dir'], 'build/')\n",
    "with open(os.path.join(build_fpath, 'build.sh'), 'w') as f:\n",
    "        text = \"\".join(buildcommands)\n",
    "        f.writelines(text)\n",
    "        \n",
    "        \n",
    "print(text)"
   ]
  },
  {
   "cell_type": "code",
   "execution_count": null,
   "metadata": {
    "collapsed": true
   },
   "outputs": [],
   "source": []
  },
  {
   "cell_type": "markdown",
   "metadata": {},
   "source": [
    "### Create SBATCH script for submitting jobs to the cluster"
   ]
  },
  {
   "cell_type": "code",
   "execution_count": 73,
   "metadata": {},
   "outputs": [
    {
     "name": "stdout",
     "output_type": "stream",
     "text": [
      "--------------------\n",
      "\n",
      "#!/bin/bash \n",
      "#SBATCH -J shelf_channel_500_250_10km # job name \n",
      "#SBATCH -o output_%j.txt # output and error file name (%j expands to jobID)\n",
      "#SBATCH -n 250   #total number of mpi tasks requested\n",
      "#SBATCH --nodes=13   #total number of nodes requested\n",
      "#SBATCH --mem-per-cpu=1G\n",
      "#SBATCH -p serc\n",
      "#SBATCH -t 09:36:00 # run time (hh:mm:ss)\n",
      "#SBATCH --mail-user=ejdawson@stanford.edu\n",
      "#SBATCH --mail-type=begin  # email me when the job starts\n",
      "#SBATCH --mail-type=end  # email me when the job finishes\n",
      "\n",
      "module load netcdf\n",
      "module load openmpi/4.0.3\n",
      "#module load openmpi\n",
      "srun ./mitgcmuv\n"
     ]
    }
   ],
   "source": [
    "# create SBATCH file for submitting the job to the cluster\n",
    "rcf.createSBATCHfile_Sherlock(run_config, cluster_params, walltime_hrs=1.2*comptime_hrs, email=email,\n",
    "                                part='serc', use_mpirun=False, mem_GB=1, specify_nodes=True)"
   ]
  },
  {
   "cell_type": "code",
   "execution_count": null,
   "metadata": {
    "collapsed": true
   },
   "outputs": [],
   "source": []
  },
  {
   "cell_type": "code",
   "execution_count": 74,
   "metadata": {},
   "outputs": [
    {
     "name": "stdout",
     "output_type": "stream",
     "text": [
      "ln -s ../input/* ./ \n",
      "ln -s ../build/mitgcmuv \n",
      "module load openmpi/4.0.3\n",
      "sbatch run_mitgcm > output.txt \n",
      "\n"
     ]
    }
   ],
   "source": [
    "# create wrapper function for the SBATCH script\n",
    "ncpus = grid_params['nPy']*grid_params['nPx']\n",
    "sbatch_cmnds = ['ln -s ../input/* ./ \\n',  'ln -s ../build/mitgcmuv \\n', \n",
    "                'module load openmpi/%s\\n'%cluster_params['open_mpi_ver'] ]\n",
    " \n",
    "sbatch_cmnds.append('sbatch run_mitgcm > output.txt \\n')\n",
    "\n",
    "\n",
    "print(\"\".join(sbatch_cmnds))\n",
    "results_dir = os.path.join(run_config['run_dir'], 'results/')\n",
    "with open(os.path.join(results_dir, 'run.sh'), 'w') as f:\n",
    "        text = \"\".join(sbatch_cmnds)\n",
    "        f.writelines(text)"
   ]
  },
  {
   "cell_type": "markdown",
   "metadata": {},
   "source": [
    "## Consolidate and save run parameters"
   ]
  },
  {
   "cell_type": "code",
   "execution_count": 75,
   "metadata": {
    "collapsed": true
   },
   "outputs": [],
   "source": [
    "# combine\n",
    "run_config['domain_params'] = domain_params\n",
    "run_config['grid_params'] = grid_params\n",
    "run_config['cluster_params'] = cluster_params"
   ]
  },
  {
   "cell_type": "code",
   "execution_count": 76,
   "metadata": {
    "collapsed": true
   },
   "outputs": [],
   "source": [
    "# add params required by mitgcm\n",
    "run_config['mitgcm_params'] = {}\n",
    "run_config['mitgcm_params']['data'] = data_params\n",
    "run_config['mitgcm_params']['data_rbcs'] = data_rbcs_params\n",
    "run_config['mitgcm_params']['data_obcs'] = obcs_params\n",
    "run_config['mitgcm_params']['data_layers'] = layers_params\n",
    "run_config['mitgcm_params']['data_gm'] = gmredi_params\n",
    "run_config['mitgcm_params']['data_diagnostics'] = diag_params"
   ]
  },
  {
   "cell_type": "code",
   "execution_count": 77,
   "metadata": {},
   "outputs": [
    {
     "data": {
      "text/plain": [
       "dict_keys(['ncpus_xy', 'run_name', 'nyrs', 'test', 'horiz_res_km', 'Lx_km', 'Ly_km', 'evolve_salt', 'use_GMRedi', 'periodic_forcing', 'use_MPI', 'lf', 'exps_dir', 'run_dir', 'build_dir', 'code_dir', 'input_dir', 'results_dir', 'inst_freq', 'tavg_freq', 'domain_params', 'grid_params', 'cluster_params', 'mitgcm_params'])"
      ]
     },
     "execution_count": 77,
     "metadata": {},
     "output_type": "execute_result"
    }
   ],
   "source": [
    "run_config.keys()"
   ]
  },
  {
   "cell_type": "code",
   "execution_count": 78,
   "metadata": {
    "collapsed": true
   },
   "outputs": [],
   "source": [
    "run_config\n",
    "\n",
    "params_fpath = os.path.join(run_config['input_dir'], 'params.p')\n",
    "with open(params_fpath, 'wb') as f:\n",
    "    pickle.dump(run_config, f)"
   ]
  },
  {
   "cell_type": "code",
   "execution_count": 79,
   "metadata": {},
   "outputs": [
    {
     "data": {
      "text/plain": [
       "{'Lx_km': 4000,\n",
       " 'Ly_km': 1500,\n",
       " 'build_dir': '/scratch/groups/earlew/ejdawson/research/modeling/MITgcm_PG/experiments/shelf_channel_500_250_10km/build',\n",
       " 'cluster_params': {'cluster_name': 'sherlock',\n",
       "  'cpus_per_node': 20,\n",
       "  'email': 'ejdawson@stanford.edu',\n",
       "  'exps_dir': '/scratch/groups/earlew/ejdawson/research/modeling/MITgcm_PG/experiments/shelf_channel_500_250_10km',\n",
       "  'login_rootname': 'login.sherlock.stanford.edu',\n",
       "  'mitgcm_code_dir': '/home/groups/earlew/shared/mitgcm_releases/MITgcm-checkpoint67g',\n",
       "  'mpi_inc_dir': '/share/software/user/open/openmpi/4.0.3/include',\n",
       "  'netcdf_dir': '/share/software/user/open/netcdf/4.4.1.1',\n",
       "  'open_mpi_ver': '4.0.3',\n",
       "  'opt_file': 'darwin_amd64_gfortran_v2',\n",
       "  'run_dir': '/scratch/groups/earlew/ejdawson/research/modeling/MITgcm_PG/experiments/shelf_channel_500_250_10km/shelf_channel_500_250_10km',\n",
       "  'tools_dir': '/home/groups/earlew/shared/mitgcm_releases/MITgcm-checkpoint67g/tools',\n",
       "  'use_mpi': True,\n",
       "  'use_pbs': True,\n",
       "  'username': 'ejdawson'},\n",
       " 'code_dir': '/scratch/groups/earlew/ejdawson/research/modeling/MITgcm_PG/experiments/shelf_channel_500_250_10km/code',\n",
       " 'domain_params': {'DP_X': -1500000,\n",
       "  'DP_Y_mid': 1500000,\n",
       "  'DP_dX': 250000,\n",
       "  'DP_dY': 500000,\n",
       "  'DP_sill_H': 1500,\n",
       "  'H': 4000,\n",
       "  'L_sponge': 100000,\n",
       "  'Lx': 4000000,\n",
       "  'Ly': 1500000,\n",
       "  'MR_HoS': 100,\n",
       "  'SAC_X0': [-1000000],\n",
       "  'SAC_dX': 200000,\n",
       "  'SAC_sill_H': 1000,\n",
       "  'SC_MR': -500,\n",
       "  'SC_X0': -500000,\n",
       "  'SC_dX': 250000,\n",
       "  'SC_slope_cc': 100000,\n",
       "  'SS_H': 3500,\n",
       "  'SS_slope_Y': 300000,\n",
       "  'SS_slope_hW': 50000,\n",
       "  'ZR_H': -100,\n",
       "  'ZR_X_min': -1350000,\n",
       "  'ZR_Y_mid': 750000.0,\n",
       "  'ZR_dX': 150000,\n",
       "  'ZR_dY': 1000000,\n",
       "  'add_DP': False,\n",
       "  'add_SAC': False,\n",
       "  'add_SC': True,\n",
       "  'add_SS': True,\n",
       "  'add_ZR': False,\n",
       "  'slope_hW': 50000},\n",
       " 'evolve_salt': False,\n",
       " 'exps_dir': '/scratch/groups/earlew/ejdawson/research/modeling/MITgcm_PG/experiments',\n",
       " 'grid_params': {'Nr': 70,\n",
       "  'Nt': 272646.0,\n",
       "  'Nx': 400,\n",
       "  'Ny': 150,\n",
       "  'OLx': 3,\n",
       "  'OLy': 3,\n",
       "  'delR': array([ 10.48375   ,  10.50456714,  10.52998068,  10.56100208,\n",
       "          10.59886376,  10.64506646,  10.70143653,  10.7701947 ,\n",
       "          10.8540386 ,  10.95624118,  11.0807675 ,  11.23241234,\n",
       "          11.41696087,  11.64137413,  11.91399994,  12.24480781,\n",
       "          12.64564356,  13.1304943 ,  13.71574757,  14.42041864,\n",
       "          15.2663072 ,  16.2780281 ,  17.48284281,  18.91019895,\n",
       "          20.59087159,  22.5555976 ,  24.8331157 ,  27.44758145,\n",
       "          30.41543016,  33.7419122 ,  37.41770885,  41.41620832,\n",
       "          45.69211449,  50.18199843,  54.80714091,  59.47857337,\n",
       "          64.10371586,  68.5935998 ,  72.86950597,  76.86800544,\n",
       "          80.54380208,  83.87028413,  86.83813284,  89.45259859,\n",
       "          91.73011668,  93.69484269,  95.37551533,  96.80287148,\n",
       "          98.00768619,  99.01940709,  99.86529564, 100.56996672,\n",
       "         101.15521998, 101.64007072, 102.04090648, 102.37171434,\n",
       "         102.64434015, 102.86875342, 103.05330194, 103.20494678,\n",
       "         103.32947311, 103.43167569, 103.51551959, 103.58427776,\n",
       "         103.64064782, 103.68685053, 103.7247122 , 103.75573361,\n",
       "         103.78114714, 103.80196429]),\n",
       "  'delX': array([10000., 10000., 10000., 10000., 10000., 10000., 10000., 10000.,\n",
       "         10000., 10000., 10000., 10000., 10000., 10000., 10000., 10000.,\n",
       "         10000., 10000., 10000., 10000., 10000., 10000., 10000., 10000.,\n",
       "         10000., 10000., 10000., 10000., 10000., 10000., 10000., 10000.,\n",
       "         10000., 10000., 10000., 10000., 10000., 10000., 10000., 10000.,\n",
       "         10000., 10000., 10000., 10000., 10000., 10000., 10000., 10000.,\n",
       "         10000., 10000., 10000., 10000., 10000., 10000., 10000., 10000.,\n",
       "         10000., 10000., 10000., 10000., 10000., 10000., 10000., 10000.,\n",
       "         10000., 10000., 10000., 10000., 10000., 10000., 10000., 10000.,\n",
       "         10000., 10000., 10000., 10000., 10000., 10000., 10000., 10000.,\n",
       "         10000., 10000., 10000., 10000., 10000., 10000., 10000., 10000.,\n",
       "         10000., 10000., 10000., 10000., 10000., 10000., 10000., 10000.,\n",
       "         10000., 10000., 10000., 10000., 10000., 10000., 10000., 10000.,\n",
       "         10000., 10000., 10000., 10000., 10000., 10000., 10000., 10000.,\n",
       "         10000., 10000., 10000., 10000., 10000., 10000., 10000., 10000.,\n",
       "         10000., 10000., 10000., 10000., 10000., 10000., 10000., 10000.,\n",
       "         10000., 10000., 10000., 10000., 10000., 10000., 10000., 10000.,\n",
       "         10000., 10000., 10000., 10000., 10000., 10000., 10000., 10000.,\n",
       "         10000., 10000., 10000., 10000., 10000., 10000., 10000., 10000.,\n",
       "         10000., 10000., 10000., 10000., 10000., 10000., 10000., 10000.,\n",
       "         10000., 10000., 10000., 10000., 10000., 10000., 10000., 10000.,\n",
       "         10000., 10000., 10000., 10000., 10000., 10000., 10000., 10000.,\n",
       "         10000., 10000., 10000., 10000., 10000., 10000., 10000., 10000.,\n",
       "         10000., 10000., 10000., 10000., 10000., 10000., 10000., 10000.,\n",
       "         10000., 10000., 10000., 10000., 10000., 10000., 10000., 10000.,\n",
       "         10000., 10000., 10000., 10000., 10000., 10000., 10000., 10000.,\n",
       "         10000., 10000., 10000., 10000., 10000., 10000., 10000., 10000.,\n",
       "         10000., 10000., 10000., 10000., 10000., 10000., 10000., 10000.,\n",
       "         10000., 10000., 10000., 10000., 10000., 10000., 10000., 10000.,\n",
       "         10000., 10000., 10000., 10000., 10000., 10000., 10000., 10000.,\n",
       "         10000., 10000., 10000., 10000., 10000., 10000., 10000., 10000.,\n",
       "         10000., 10000., 10000., 10000., 10000., 10000., 10000., 10000.,\n",
       "         10000., 10000., 10000., 10000., 10000., 10000., 10000., 10000.,\n",
       "         10000., 10000., 10000., 10000., 10000., 10000., 10000., 10000.,\n",
       "         10000., 10000., 10000., 10000., 10000., 10000., 10000., 10000.,\n",
       "         10000., 10000., 10000., 10000., 10000., 10000., 10000., 10000.,\n",
       "         10000., 10000., 10000., 10000., 10000., 10000., 10000., 10000.,\n",
       "         10000., 10000., 10000., 10000., 10000., 10000., 10000., 10000.,\n",
       "         10000., 10000., 10000., 10000., 10000., 10000., 10000., 10000.,\n",
       "         10000., 10000., 10000., 10000., 10000., 10000., 10000., 10000.,\n",
       "         10000., 10000., 10000., 10000., 10000., 10000., 10000., 10000.,\n",
       "         10000., 10000., 10000., 10000., 10000., 10000., 10000., 10000.,\n",
       "         10000., 10000., 10000., 10000., 10000., 10000., 10000., 10000.,\n",
       "         10000., 10000., 10000., 10000., 10000., 10000., 10000., 10000.,\n",
       "         10000., 10000., 10000., 10000., 10000., 10000., 10000., 10000.,\n",
       "         10000., 10000., 10000., 10000., 10000., 10000., 10000., 10000.,\n",
       "         10000., 10000., 10000., 10000., 10000., 10000., 10000., 10000.,\n",
       "         10000., 10000., 10000., 10000., 10000., 10000., 10000., 10000.,\n",
       "         10000., 10000., 10000., 10000., 10000., 10000., 10000., 10000.,\n",
       "         10000., 10000., 10000., 10000., 10000., 10000., 10000., 10000.]),\n",
       "  'delY': array([10000., 10000., 10000., 10000., 10000., 10000., 10000., 10000.,\n",
       "         10000., 10000., 10000., 10000., 10000., 10000., 10000., 10000.,\n",
       "         10000., 10000., 10000., 10000., 10000., 10000., 10000., 10000.,\n",
       "         10000., 10000., 10000., 10000., 10000., 10000., 10000., 10000.,\n",
       "         10000., 10000., 10000., 10000., 10000., 10000., 10000., 10000.,\n",
       "         10000., 10000., 10000., 10000., 10000., 10000., 10000., 10000.,\n",
       "         10000., 10000., 10000., 10000., 10000., 10000., 10000., 10000.,\n",
       "         10000., 10000., 10000., 10000., 10000., 10000., 10000., 10000.,\n",
       "         10000., 10000., 10000., 10000., 10000., 10000., 10000., 10000.,\n",
       "         10000., 10000., 10000., 10000., 10000., 10000., 10000., 10000.,\n",
       "         10000., 10000., 10000., 10000., 10000., 10000., 10000., 10000.,\n",
       "         10000., 10000., 10000., 10000., 10000., 10000., 10000., 10000.,\n",
       "         10000., 10000., 10000., 10000., 10000., 10000., 10000., 10000.,\n",
       "         10000., 10000., 10000., 10000., 10000., 10000., 10000., 10000.,\n",
       "         10000., 10000., 10000., 10000., 10000., 10000., 10000., 10000.,\n",
       "         10000., 10000., 10000., 10000., 10000., 10000., 10000., 10000.,\n",
       "         10000., 10000., 10000., 10000., 10000., 10000., 10000., 10000.,\n",
       "         10000., 10000., 10000., 10000., 10000., 10000., 10000., 10000.,\n",
       "         10000., 10000., 10000., 10000., 10000., 10000.]),\n",
       "  'hFacMinDr': 10.483749998761256,\n",
       "  'nPx': 25,\n",
       "  'nPy': 10,\n",
       "  'nSx': 1,\n",
       "  'nSy': 1,\n",
       "  'nTx': 1,\n",
       "  'nTy': 1,\n",
       "  'sNx': 16,\n",
       "  'sNy': 15,\n",
       "  'usingCartesianGrid': True,\n",
       "  'usingSphericalPolarGrid': False},\n",
       " 'horiz_res_km': 10,\n",
       " 'input_dir': '/scratch/groups/earlew/ejdawson/research/modeling/MITgcm_PG/experiments/shelf_channel_500_250_10km/input',\n",
       " 'inst_freq': 1,\n",
       " 'lf': '\\r\\n',\n",
       " 'mitgcm_params': {'data': [{'beta': 7.793921964035223e-12,\n",
       "    'bottomDragLinear': 0.0011,\n",
       "    'bottomDragQuadratic': 0.0,\n",
       "    'debugLevel': 1,\n",
       "    'diffK4T': 0.0,\n",
       "    'diffKhT': 0.0,\n",
       "    'diffKrT': 5e-06,\n",
       "    'eosType': 'LINEAR',\n",
       "    'exactConserv': True,\n",
       "    'f0': -0.00013704719747314038,\n",
       "    'fPrime': 0.0,\n",
       "    'gravity': 9.81,\n",
       "    'hFacMin': 0.1,\n",
       "    'hFacMinDr': 10.483749998761256,\n",
       "    'implicitDiffusion': True,\n",
       "    'implicitViscosity': True,\n",
       "    'ivdc_kappa': 0.0,\n",
       "    'no_slip_bottom': False,\n",
       "    'no_slip_sides': False,\n",
       "    'quasiHydrostatic': False,\n",
       "    'readBinaryPrec': 64,\n",
       "    'sBeta': 0.0,\n",
       "    'saltAdvScheme': 80,\n",
       "    'saltStepping': False,\n",
       "    'staggerTimeStep': True,\n",
       "    'tAlpha': 0.00015,\n",
       "    'tempAdvScheme': 80,\n",
       "    'tempStepping': True,\n",
       "    'useAreaViscLength': False,\n",
       "    'useCDscheme': False,\n",
       "    'useFullLeith': True,\n",
       "    'useJamartMomAdv': True,\n",
       "    'useJamartWetPoints': True,\n",
       "    'useSingleCpuIO': True,\n",
       "    'vectorInvariantMomentum': True,\n",
       "    'viscA4': 0.0,\n",
       "    'viscA4Grid': 0.1,\n",
       "    'viscA4GridMax': 0.5,\n",
       "    'viscAh': 12.0,\n",
       "    'viscAhGrid': 0.0,\n",
       "    'viscAhGridMax': 1.0,\n",
       "    'viscAr': 0.0003,\n",
       "    'viscC2leith': 0.0,\n",
       "    'viscC2leithD': 0.0,\n",
       "    'viscC4leith': 1.0,\n",
       "    'viscC4leithD': 1.0},\n",
       "   {'cg2dMaxIters': 1000, 'cg2dTargetResidual': 1e-12, 'useSRCGSolver': True},\n",
       "   {'abEps': 0.1,\n",
       "    'alph_AB': 0.5,\n",
       "    'beta_AB': 0.4166666666666667,\n",
       "    'chkptFreq': 7884000.0,\n",
       "    'deltaT': 694.0,\n",
       "    'dumpFreq': 315360000.0,\n",
       "    'dumpInitAndLast': True,\n",
       "    'endTime': 189216324,\n",
       "    'monitorFreq': 31536000.0,\n",
       "    'nIter0': 0,\n",
       "    'pChkptFreq': 157680000.0,\n",
       "    'pickupStrictlyMatch': False,\n",
       "    'taveFreq': 0.0},\n",
       "   {'delR': array([ 10.48375   ,  10.50456714,  10.52998068,  10.56100208,\n",
       "            10.59886376,  10.64506646,  10.70143653,  10.7701947 ,\n",
       "            10.8540386 ,  10.95624118,  11.0807675 ,  11.23241234,\n",
       "            11.41696087,  11.64137413,  11.91399994,  12.24480781,\n",
       "            12.64564356,  13.1304943 ,  13.71574757,  14.42041864,\n",
       "            15.2663072 ,  16.2780281 ,  17.48284281,  18.91019895,\n",
       "            20.59087159,  22.5555976 ,  24.8331157 ,  27.44758145,\n",
       "            30.41543016,  33.7419122 ,  37.41770885,  41.41620832,\n",
       "            45.69211449,  50.18199843,  54.80714091,  59.47857337,\n",
       "            64.10371586,  68.5935998 ,  72.86950597,  76.86800544,\n",
       "            80.54380208,  83.87028413,  86.83813284,  89.45259859,\n",
       "            91.73011668,  93.69484269,  95.37551533,  96.80287148,\n",
       "            98.00768619,  99.01940709,  99.86529564, 100.56996672,\n",
       "           101.15521998, 101.64007072, 102.04090648, 102.37171434,\n",
       "           102.64434015, 102.86875342, 103.05330194, 103.20494678,\n",
       "           103.32947311, 103.43167569, 103.51551959, 103.58427776,\n",
       "           103.64064782, 103.68685053, 103.7247122 , 103.75573361,\n",
       "           103.78114714, 103.80196429]),\n",
       "    'delX': array([10000., 10000., 10000., 10000., 10000., 10000., 10000., 10000.,\n",
       "           10000., 10000., 10000., 10000., 10000., 10000., 10000., 10000.,\n",
       "           10000., 10000., 10000., 10000., 10000., 10000., 10000., 10000.,\n",
       "           10000., 10000., 10000., 10000., 10000., 10000., 10000., 10000.,\n",
       "           10000., 10000., 10000., 10000., 10000., 10000., 10000., 10000.,\n",
       "           10000., 10000., 10000., 10000., 10000., 10000., 10000., 10000.,\n",
       "           10000., 10000., 10000., 10000., 10000., 10000., 10000., 10000.,\n",
       "           10000., 10000., 10000., 10000., 10000., 10000., 10000., 10000.,\n",
       "           10000., 10000., 10000., 10000., 10000., 10000., 10000., 10000.,\n",
       "           10000., 10000., 10000., 10000., 10000., 10000., 10000., 10000.,\n",
       "           10000., 10000., 10000., 10000., 10000., 10000., 10000., 10000.,\n",
       "           10000., 10000., 10000., 10000., 10000., 10000., 10000., 10000.,\n",
       "           10000., 10000., 10000., 10000., 10000., 10000., 10000., 10000.,\n",
       "           10000., 10000., 10000., 10000., 10000., 10000., 10000., 10000.,\n",
       "           10000., 10000., 10000., 10000., 10000., 10000., 10000., 10000.,\n",
       "           10000., 10000., 10000., 10000., 10000., 10000., 10000., 10000.,\n",
       "           10000., 10000., 10000., 10000., 10000., 10000., 10000., 10000.,\n",
       "           10000., 10000., 10000., 10000., 10000., 10000., 10000., 10000.,\n",
       "           10000., 10000., 10000., 10000., 10000., 10000., 10000., 10000.,\n",
       "           10000., 10000., 10000., 10000., 10000., 10000., 10000., 10000.,\n",
       "           10000., 10000., 10000., 10000., 10000., 10000., 10000., 10000.,\n",
       "           10000., 10000., 10000., 10000., 10000., 10000., 10000., 10000.,\n",
       "           10000., 10000., 10000., 10000., 10000., 10000., 10000., 10000.,\n",
       "           10000., 10000., 10000., 10000., 10000., 10000., 10000., 10000.,\n",
       "           10000., 10000., 10000., 10000., 10000., 10000., 10000., 10000.,\n",
       "           10000., 10000., 10000., 10000., 10000., 10000., 10000., 10000.,\n",
       "           10000., 10000., 10000., 10000., 10000., 10000., 10000., 10000.,\n",
       "           10000., 10000., 10000., 10000., 10000., 10000., 10000., 10000.,\n",
       "           10000., 10000., 10000., 10000., 10000., 10000., 10000., 10000.,\n",
       "           10000., 10000., 10000., 10000., 10000., 10000., 10000., 10000.,\n",
       "           10000., 10000., 10000., 10000., 10000., 10000., 10000., 10000.,\n",
       "           10000., 10000., 10000., 10000., 10000., 10000., 10000., 10000.,\n",
       "           10000., 10000., 10000., 10000., 10000., 10000., 10000., 10000.,\n",
       "           10000., 10000., 10000., 10000., 10000., 10000., 10000., 10000.,\n",
       "           10000., 10000., 10000., 10000., 10000., 10000., 10000., 10000.,\n",
       "           10000., 10000., 10000., 10000., 10000., 10000., 10000., 10000.,\n",
       "           10000., 10000., 10000., 10000., 10000., 10000., 10000., 10000.,\n",
       "           10000., 10000., 10000., 10000., 10000., 10000., 10000., 10000.,\n",
       "           10000., 10000., 10000., 10000., 10000., 10000., 10000., 10000.,\n",
       "           10000., 10000., 10000., 10000., 10000., 10000., 10000., 10000.,\n",
       "           10000., 10000., 10000., 10000., 10000., 10000., 10000., 10000.,\n",
       "           10000., 10000., 10000., 10000., 10000., 10000., 10000., 10000.,\n",
       "           10000., 10000., 10000., 10000., 10000., 10000., 10000., 10000.,\n",
       "           10000., 10000., 10000., 10000., 10000., 10000., 10000., 10000.,\n",
       "           10000., 10000., 10000., 10000., 10000., 10000., 10000., 10000.,\n",
       "           10000., 10000., 10000., 10000., 10000., 10000., 10000., 10000.,\n",
       "           10000., 10000., 10000., 10000., 10000., 10000., 10000., 10000.,\n",
       "           10000., 10000., 10000., 10000., 10000., 10000., 10000., 10000.,\n",
       "           10000., 10000., 10000., 10000., 10000., 10000., 10000., 10000.,\n",
       "           10000., 10000., 10000., 10000., 10000., 10000., 10000., 10000.]),\n",
       "    'delY': array([10000., 10000., 10000., 10000., 10000., 10000., 10000., 10000.,\n",
       "           10000., 10000., 10000., 10000., 10000., 10000., 10000., 10000.,\n",
       "           10000., 10000., 10000., 10000., 10000., 10000., 10000., 10000.,\n",
       "           10000., 10000., 10000., 10000., 10000., 10000., 10000., 10000.,\n",
       "           10000., 10000., 10000., 10000., 10000., 10000., 10000., 10000.,\n",
       "           10000., 10000., 10000., 10000., 10000., 10000., 10000., 10000.,\n",
       "           10000., 10000., 10000., 10000., 10000., 10000., 10000., 10000.,\n",
       "           10000., 10000., 10000., 10000., 10000., 10000., 10000., 10000.,\n",
       "           10000., 10000., 10000., 10000., 10000., 10000., 10000., 10000.,\n",
       "           10000., 10000., 10000., 10000., 10000., 10000., 10000., 10000.,\n",
       "           10000., 10000., 10000., 10000., 10000., 10000., 10000., 10000.,\n",
       "           10000., 10000., 10000., 10000., 10000., 10000., 10000., 10000.,\n",
       "           10000., 10000., 10000., 10000., 10000., 10000., 10000., 10000.,\n",
       "           10000., 10000., 10000., 10000., 10000., 10000., 10000., 10000.,\n",
       "           10000., 10000., 10000., 10000., 10000., 10000., 10000., 10000.,\n",
       "           10000., 10000., 10000., 10000., 10000., 10000., 10000., 10000.,\n",
       "           10000., 10000., 10000., 10000., 10000., 10000., 10000., 10000.,\n",
       "           10000., 10000., 10000., 10000., 10000., 10000., 10000., 10000.,\n",
       "           10000., 10000., 10000., 10000., 10000., 10000.]),\n",
       "    'usingCartesianGrid': True,\n",
       "    'usingSphericalPolarGrid': False},\n",
       "   {'bathyFile': 'bathyFile.bin',\n",
       "    'diffKrFile': 'diffKrFile.bin',\n",
       "    'hydrogThetaFile': 'hydrogThetaFile.bin',\n",
       "    'surfQfile': 'surfQFile.bin',\n",
       "    'zonalWindFile': 'zonalWindFile.bin'}],\n",
       "  'data_diagnostics': [{'diag_mnc': False,\n",
       "    'fields(1,1)': 'UVEL',\n",
       "    'fields(1,10)': 'THETA',\n",
       "    'fields(1,2)': 'VVEL',\n",
       "    'fields(1,3)': 'WVEL',\n",
       "    'fields(1,4)': 'UVELTH',\n",
       "    'fields(1,5)': 'VVELTH',\n",
       "    'fields(1,6)': 'WVELTH',\n",
       "    'fields(1,7)': 'THETA',\n",
       "    'fields(1,8)': 'UVEL',\n",
       "    'fields(1,9)': 'VVEL',\n",
       "    'fileName(1)': 'UVEL',\n",
       "    'fileName(10)': 'THETA_inst',\n",
       "    'fileName(2)': 'VVEL',\n",
       "    'fileName(3)': 'WVEL',\n",
       "    'fileName(4)': 'UVELTH',\n",
       "    'fileName(5)': 'VVELTH',\n",
       "    'fileName(6)': 'WVELTH',\n",
       "    'fileName(7)': 'THETA',\n",
       "    'fileName(8)': 'UVEL_inst',\n",
       "    'fileName(9)': 'VVEL_inst',\n",
       "    'frequency(1)': 157680000,\n",
       "    'frequency(10)': -31536000,\n",
       "    'frequency(2)': 157680000,\n",
       "    'frequency(3)': 157680000,\n",
       "    'frequency(4)': 157680000,\n",
       "    'frequency(5)': 157680000,\n",
       "    'frequency(6)': 157680000,\n",
       "    'frequency(7)': 157680000,\n",
       "    'frequency(8)': -31536000,\n",
       "    'frequency(9)': -31536000,\n",
       "    'timePhase(1)': 0.0,\n",
       "    'timePhase(10)': 0.0,\n",
       "    'timePhase(2)': 0.0,\n",
       "    'timePhase(3)': 0.0,\n",
       "    'timePhase(4)': 0.0,\n",
       "    'timePhase(5)': 0.0,\n",
       "    'timePhase(6)': 0.0,\n",
       "    'timePhase(7)': 0.0,\n",
       "    'timePhase(8)': 0.0,\n",
       "    'timePhase(9)': 0.0},\n",
       "   {}],\n",
       "  'data_gm': [{'GM_Scrit': 0.025,\n",
       "    'GM_Sd': 0.0025,\n",
       "    'GM_background_K': 1000.0,\n",
       "    'GM_isopycK': 1000.0,\n",
       "    'GM_maxSlope': 0.025,\n",
       "    'GM_taper_scheme': 'dm95'}],\n",
       "  'data_layers': [{'layers_bolus': False,\n",
       "    'layers_bounds': array([-1.0000000e+00, -9.5000000e-01, -9.0000000e-01, -8.5000000e-01,\n",
       "           -8.0000000e-01, -7.5000000e-01, -7.0000000e-01, -6.5000000e-01,\n",
       "           -6.0000000e-01, -5.5000000e-01, -5.0000000e-01, -4.5000000e-01,\n",
       "           -4.0000000e-01, -3.5000000e-01, -3.0000000e-01, -2.5000000e-01,\n",
       "           -2.0000000e-01, -1.5000000e-01, -1.0000000e-01, -5.0000000e-02,\n",
       "            8.8817842e-16,  5.0000000e-02,  1.0000000e-01,  1.5000000e-01,\n",
       "            2.0000000e-01,  2.5000000e-01,  3.0000000e-01,  3.5000000e-01,\n",
       "            4.0000000e-01,  4.5000000e-01,  5.0000000e-01,  5.5000000e-01,\n",
       "            6.0000000e-01,  6.5000000e-01,  7.0000000e-01,  7.5000000e-01,\n",
       "            8.0000000e-01,  8.5000000e-01,  9.0000000e-01,  9.5000000e-01,\n",
       "            1.0000000e+00,  1.2000000e+00,  1.4000000e+00,  1.6000000e+00,\n",
       "            1.8000000e+00,  2.0000000e+00,  2.2000000e+00,  2.4000000e+00,\n",
       "            2.6000000e+00,  2.8000000e+00,  3.0000000e+00,  3.3000000e+00,\n",
       "            3.6000000e+00,  3.9000000e+00,  4.2000000e+00,  4.5000000e+00,\n",
       "            4.8000000e+00,  5.1000000e+00,  5.4000000e+00,  5.7000000e+00,\n",
       "            6.0000000e+00,  6.3000000e+00,  6.6000000e+00,  6.9000000e+00,\n",
       "            7.2000000e+00,  7.4000000e+00,  7.6000000e+00,  7.8000000e+00,\n",
       "            8.0000000e+00,  8.2000000e+00,  8.4000000e+00,  8.6000000e+00,\n",
       "            8.8000000e+00,  9.0000000e+00,  9.1000000e+00,  9.2000000e+00,\n",
       "            9.3000000e+00,  9.4000000e+00,  9.5000000e+00,  9.6000000e+00,\n",
       "            9.7000000e+00,  9.8000000e+00,  9.9000000e+00,  1.0000000e+01,\n",
       "            1.0100000e+01,  1.0200000e+01,  1.0300000e+01,  1.0400000e+01,\n",
       "            1.0500000e+01,  1.0600000e+01,  1.0700000e+01,  1.0800000e+01,\n",
       "            1.0900000e+01,  1.1000000e+01,  1.1100000e+01,  1.1200000e+01,\n",
       "            1.1300000e+01,  1.1400000e+01,  1.1500000e+01,  1.1600000e+01,\n",
       "            1.1700000e+01,  1.1800000e+01,  1.1900000e+01,  1.2000000e+01]),\n",
       "    'layers_krho': 1,\n",
       "    'layers_name': 'TH'}],\n",
       "  'data_obcs': [{'OBCS_balanceFacE': 0.0,\n",
       "    'OBCS_balanceFacN': -1.0,\n",
       "    'OBCS_balanceFacS': 0.0,\n",
       "    'OBCS_balanceFacW': 0.0,\n",
       "    'OB_Jnorth': array([150, 150, 150, 150, 150, 150, 150, 150, 150, 150, 150, 150, 150,\n",
       "           150, 150, 150, 150, 150, 150, 150, 150, 150, 150, 150, 150, 150,\n",
       "           150, 150, 150, 150, 150, 150, 150, 150, 150, 150, 150, 150, 150,\n",
       "           150, 150, 150, 150, 150, 150, 150, 150, 150, 150, 150, 150, 150,\n",
       "           150, 150, 150, 150, 150, 150, 150, 150, 150, 150, 150, 150, 150,\n",
       "           150, 150, 150, 150, 150, 150, 150, 150, 150, 150, 150, 150, 150,\n",
       "           150, 150, 150, 150, 150, 150, 150, 150, 150, 150, 150, 150, 150,\n",
       "           150, 150, 150, 150, 150, 150, 150, 150, 150, 150, 150, 150, 150,\n",
       "           150, 150, 150, 150, 150, 150, 150, 150, 150, 150, 150, 150, 150,\n",
       "           150, 150, 150, 150, 150, 150, 150, 150, 150, 150, 150, 150, 150,\n",
       "           150, 150, 150, 150, 150, 150, 150, 150, 150, 150, 150, 150, 150,\n",
       "           150, 150, 150, 150, 150, 150, 150, 150, 150, 150, 150, 150, 150,\n",
       "           150, 150, 150, 150, 150, 150, 150, 150, 150, 150, 150, 150, 150,\n",
       "           150, 150, 150, 150, 150, 150, 150, 150, 150, 150, 150, 150, 150,\n",
       "           150, 150, 150, 150, 150, 150, 150, 150, 150, 150, 150, 150, 150,\n",
       "           150, 150, 150, 150, 150, 150, 150, 150, 150, 150, 150, 150, 150,\n",
       "           150, 150, 150, 150, 150, 150, 150, 150, 150, 150, 150, 150, 150,\n",
       "           150, 150, 150, 150, 150, 150, 150, 150, 150, 150, 150, 150, 150,\n",
       "           150, 150, 150, 150, 150, 150, 150, 150, 150, 150, 150, 150, 150,\n",
       "           150, 150, 150, 150, 150, 150, 150, 150, 150, 150, 150, 150, 150,\n",
       "           150, 150, 150, 150, 150, 150, 150, 150, 150, 150, 150, 150, 150,\n",
       "           150, 150, 150, 150, 150, 150, 150, 150, 150, 150, 150, 150, 150,\n",
       "           150, 150, 150, 150, 150, 150, 150, 150, 150, 150, 150, 150, 150,\n",
       "           150, 150, 150, 150, 150, 150, 150, 150, 150, 150, 150, 150, 150,\n",
       "           150, 150, 150, 150, 150, 150, 150, 150, 150, 150, 150, 150, 150,\n",
       "           150, 150, 150, 150, 150, 150, 150, 150, 150, 150, 150, 150, 150,\n",
       "           150, 150, 150, 150, 150, 150, 150, 150, 150, 150, 150, 150, 150,\n",
       "           150, 150, 150, 150, 150, 150, 150, 150, 150, 150, 150, 150, 150,\n",
       "           150, 150, 150, 150, 150, 150, 150, 150, 150, 150, 150, 150, 150,\n",
       "           150, 150, 150, 150, 150, 150, 150, 150, 150, 150, 150, 150, 150,\n",
       "           150, 150, 150, 150, 150, 150, 150, 150, 150, 150]),\n",
       "    'useOBCSbalance': True,\n",
       "    'useOrlanskiNorth': True},\n",
       "   {'CMAX': 0.45, 'cvelTimeScale': 2082.0}],\n",
       "  'data_rbcs': [{'relaxMaskFile(1)': 'rbcs_temp_mask.bin',\n",
       "    'relaxTFile': 'sponge_temp.bin',\n",
       "    'tauRelaxS': 86400.0,\n",
       "    'tauRelaxT': 604800.0,\n",
       "    'tauRelaxU': 86400.0,\n",
       "    'tauRelaxV': 86400.0,\n",
       "    'useRBCsalt': False,\n",
       "    'useRBCtemp': True,\n",
       "    'useRBCuVel': False,\n",
       "    'useRBCvVel': False},\n",
       "   {}]},\n",
       " 'ncpus_xy': [25, 10],\n",
       " 'nyrs': 6,\n",
       " 'periodic_forcing': False,\n",
       " 'results_dir': '/scratch/groups/earlew/ejdawson/research/modeling/MITgcm_PG/experiments/shelf_channel_500_250_10km/results',\n",
       " 'run_dir': '/scratch/groups/earlew/ejdawson/research/modeling/MITgcm_PG/experiments/shelf_channel_500_250_10km',\n",
       " 'run_name': 'shelf_channel_500_250_10km',\n",
       " 'tavg_freq': 5,\n",
       " 'test': False,\n",
       " 'use_GMRedi': False,\n",
       " 'use_MPI': True}"
      ]
     },
     "execution_count": 79,
     "metadata": {},
     "output_type": "execute_result"
    }
   ],
   "source": [
    "run_config"
   ]
  },
  {
   "cell_type": "code",
   "execution_count": 80,
   "metadata": {},
   "outputs": [
    {
     "data": {
      "text/plain": [
       "'/scratch/groups/earlew/ejdawson/research/modeling/MITgcm_PG/experiments'"
      ]
     },
     "execution_count": 80,
     "metadata": {},
     "output_type": "execute_result"
    }
   ],
   "source": [
    "run_config['exps_dir']"
   ]
  },
  {
   "cell_type": "code",
   "execution_count": 81,
   "metadata": {},
   "outputs": [
    {
     "data": {
      "text/plain": [
       "'/scratch/groups/earlew/ejdawson/research/modeling/MITgcm_PG/experiments/shelf_channel_500_250_10km/build'"
      ]
     },
     "execution_count": 81,
     "metadata": {},
     "output_type": "execute_result"
    }
   ],
   "source": [
    "run_config['build_dir']"
   ]
  },
  {
   "cell_type": "markdown",
   "metadata": {},
   "source": [
    "## Next steps\n",
    "\n",
    "Once you've successfully set up the model experiment, you will need to do the following:\n",
    "\n",
    "+ Navigate to the build directory and compile the code (i.e., `sh build.sh`). This may take a couple minutes and will generates lots of new files in the build directory. The key file is the `mitgcmuv` executable.\n",
    "\n",
    "\n",
    "\n",
    "+ Next, go to the results directory and submit the job to Sherlock queue (`sh run.sh`). It is recommended that you do this from a login node. This should generate a unique output_xxx file, which logs error messages for each run. You will get emails when the job is released from the queue and when it is completed. Test runs normally take a few minutes. A successful run will generate dozens of output files, including data files like `THETA_inst_000000.data`. \n",
    "\n",
    "\n",
    "To check if the job is running:   `squeue | grep ejdawson`\n"
   ]
  },
  {
   "cell_type": "code",
   "execution_count": null,
   "metadata": {
    "collapsed": true
   },
   "outputs": [],
   "source": []
  },
  {
   "cell_type": "code",
   "execution_count": null,
   "metadata": {
    "collapsed": true
   },
   "outputs": [],
   "source": []
  },
  {
   "cell_type": "code",
   "execution_count": null,
   "metadata": {
    "collapsed": true
   },
   "outputs": [],
   "source": []
  },
  {
   "cell_type": "code",
   "execution_count": null,
   "metadata": {
    "collapsed": true
   },
   "outputs": [],
   "source": []
  },
  {
   "cell_type": "code",
   "execution_count": null,
   "metadata": {
    "collapsed": true
   },
   "outputs": [],
   "source": []
  },
  {
   "cell_type": "code",
   "execution_count": null,
   "metadata": {
    "collapsed": true
   },
   "outputs": [],
   "source": []
  }
 ],
 "metadata": {
  "kernelspec": {
   "display_name": "Python 3",
   "language": "python",
   "name": "python3"
  },
  "language_info": {
   "codemirror_mode": {
    "name": "ipython",
    "version": 3
   },
   "file_extension": ".py",
   "mimetype": "text/x-python",
   "name": "python",
   "nbconvert_exporter": "python",
   "pygments_lexer": "ipython3",
   "version": "3.12.2"
  }
 },
 "nbformat": 4,
 "nbformat_minor": 5
}
